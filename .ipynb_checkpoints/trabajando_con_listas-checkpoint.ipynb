{
 "cells": [
  {
   "cell_type": "markdown",
   "id": "35dfb674",
   "metadata": {},
   "source": [
    "# TRABAJANDO CON LISTAS"
   ]
  },
  {
   "cell_type": "markdown",
   "id": "8da3ff76",
   "metadata": {},
   "source": [
    "## Recorriendo una lista completa\n",
    "---"
   ]
  },
  {
   "cell_type": "markdown",
   "id": "fd3b51a9",
   "metadata": {},
   "source": [
    "- En ocasiones querrás realizar una misma acción a todos los elementos de una lista.\n",
    "- Para ello, se puede hacer uso del loop `for`.\n",
    "- El nombre de la variable que recorre la lista conviene colocarla en singular, mientras que el nombre de la lista, en plural."
   ]
  },
  {
   "cell_type": "code",
   "execution_count": 2,
   "id": "c399c05c",
   "metadata": {
    "scrolled": true
   },
   "outputs": [
    {
     "name": "stdout",
     "output_type": "stream",
     "text": [
      "alice\n",
      "david\n",
      "carolina\n"
     ]
    }
   ],
   "source": [
    "magicians = ['alice', 'david', 'carolina']\n",
    "for magician in magicians:\n",
    "    print(magician)\n",
    "# “For every magician in the list of magicians, print the magician’s name.” "
   ]
  },
  {
   "cell_type": "markdown",
   "id": "453b181c",
   "metadata": {},
   "source": [
    "### Haciendo más trabajo dentro de un ciclo `for`"
   ]
  },
  {
   "cell_type": "markdown",
   "id": "943d7fcb",
   "metadata": {},
   "source": [
    "- Cada línea indentada que esté después de la línea `for magician in magicians` es considerada *dentro del loop*.\n",
    "- Cada una de esas líneas es ejecutada una vez para cada uno de los valores de la lista."
   ]
  },
  {
   "cell_type": "code",
   "execution_count": 5,
   "id": "5a825470",
   "metadata": {
    "scrolled": true
   },
   "outputs": [
    {
     "name": "stdout",
     "output_type": "stream",
     "text": [
      "Alice, that was a great trick!\n",
      "I can't wait to see your next trick, Alice.\n",
      "\n",
      "David, that was a great trick!\n",
      "I can't wait to see your next trick, David.\n",
      "\n",
      "Carolina, that was a great trick!\n",
      "I can't wait to see your next trick, Carolina.\n",
      "\n"
     ]
    }
   ],
   "source": [
    "for magician in magicians: \n",
    "    print(magician.title() + \", that was a great trick!\") \n",
    "    print(\"I can't wait to see your next trick, \" + magician.title() + \".\\n\")"
   ]
  },
  {
   "cell_type": "markdown",
   "id": "02405682",
   "metadata": {},
   "source": [
    "### Haciendo algo luego del ciclo `for`"
   ]
  },
  {
   "cell_type": "markdown",
   "id": "abd24e16",
   "metadata": {},
   "source": [
    "- Cada línea de código después del ciclo `for` que no esté indentada se ejecuta una vez, sin repetirse."
   ]
  },
  {
   "cell_type": "code",
   "execution_count": 6,
   "id": "23bffdbd",
   "metadata": {},
   "outputs": [
    {
     "name": "stdout",
     "output_type": "stream",
     "text": [
      "Alice, that was a great trick!\n",
      "I can't wait to see your next trick, Alice.\n",
      "\n",
      "David, that was a great trick!\n",
      "I can't wait to see your next trick, David.\n",
      "\n",
      "Carolina, that was a great trick!\n",
      "I can't wait to see your next trick, Carolina.\n",
      "\n",
      "Thank you, everyone. That was a great magic show!\n"
     ]
    }
   ],
   "source": [
    "for magician in magicians: \n",
    "    print(magician.title() + \", that was a great trick!\") \n",
    "    print(\"I can't wait to see your next trick, \" + magician.title() + \".\\n\")\n",
    "print(\"Thank you, everyone. That was a great magic show!\")"
   ]
  },
  {
   "cell_type": "markdown",
   "id": "ec9aba47",
   "metadata": {},
   "source": [
    "## Evitando *Indentation Errors*\n",
    "---"
   ]
  },
  {
   "cell_type": "markdown",
   "id": "43d3e74c",
   "metadata": {},
   "source": [
    "- Python usa la indentación para determinar cuándo una línea de código está conectada a la línea de arriba."
   ]
  },
  {
   "cell_type": "markdown",
   "id": "66982036",
   "metadata": {},
   "source": [
    "### Olvidarse de indentar"
   ]
  },
  {
   "cell_type": "code",
   "execution_count": 7,
   "id": "3c60f9a7",
   "metadata": {},
   "outputs": [
    {
     "ename": "IndentationError",
     "evalue": "expected an indented block (Temp/ipykernel_7164/2746267705.py, line 2)",
     "output_type": "error",
     "traceback": [
      "\u001b[1;36m  File \u001b[1;32m\"C:\\Users\\ferna\\AppData\\Local\\Temp/ipykernel_7164/2746267705.py\"\u001b[1;36m, line \u001b[1;32m2\u001b[0m\n\u001b[1;33m    print(magician)\u001b[0m\n\u001b[1;37m    ^\u001b[0m\n\u001b[1;31mIndentationError\u001b[0m\u001b[1;31m:\u001b[0m expected an indented block\n"
     ]
    }
   ],
   "source": [
    "for magician in magicians:\n",
    "print(magician)"
   ]
  },
  {
   "cell_type": "markdown",
   "id": "633ce27a",
   "metadata": {},
   "source": [
    "### Olvidarse de indentar líneas adicionales"
   ]
  },
  {
   "cell_type": "markdown",
   "id": "8bc0bb07",
   "metadata": {},
   "source": [
    "- El código se ejecuta, pero no como se espera. Esto es un ***logical error***."
   ]
  },
  {
   "cell_type": "code",
   "execution_count": 8,
   "id": "7d6d7367",
   "metadata": {},
   "outputs": [
    {
     "name": "stdout",
     "output_type": "stream",
     "text": [
      "Alice, that was a great trick!\n",
      "David, that was a great trick!\n",
      "Carolina, that was a great trick!\n",
      "I can't wait to see your next trick, Carolina.\n",
      "\n"
     ]
    }
   ],
   "source": [
    "for magician in magicians:\n",
    "    print(magician.title() + \", that was a great trick!\")\n",
    "print(\"I can't wait to see your next trick, \" + magician.title() + \".\\n\")"
   ]
  },
  {
   "cell_type": "markdown",
   "id": "9cf5a8f7",
   "metadata": {},
   "source": [
    "### Indentación innecesaria"
   ]
  },
  {
   "cell_type": "code",
   "execution_count": 10,
   "id": "d528df38",
   "metadata": {},
   "outputs": [
    {
     "ename": "IndentationError",
     "evalue": "unexpected indent (Temp/ipykernel_7164/2495908521.py, line 2)",
     "output_type": "error",
     "traceback": [
      "\u001b[1;36m  File \u001b[1;32m\"C:\\Users\\ferna\\AppData\\Local\\Temp/ipykernel_7164/2495908521.py\"\u001b[1;36m, line \u001b[1;32m2\u001b[0m\n\u001b[1;33m    print(message)\u001b[0m\n\u001b[1;37m    ^\u001b[0m\n\u001b[1;31mIndentationError\u001b[0m\u001b[1;31m:\u001b[0m unexpected indent\n"
     ]
    }
   ],
   "source": [
    "message = \"Hello Python world!\"\n",
    "    print(message)"
   ]
  },
  {
   "cell_type": "markdown",
   "id": "fd136838",
   "metadata": {},
   "source": [
    "### Indentanción innecesaria después del loop"
   ]
  },
  {
   "cell_type": "markdown",
   "id": "facb78bb",
   "metadata": {},
   "source": [
    "- Se produce un *logical error* porque se repite una línea de código que solo debería mostrarse una vez al final del bucle."
   ]
  },
  {
   "cell_type": "code",
   "execution_count": 13,
   "id": "0ce20cec",
   "metadata": {},
   "outputs": [
    {
     "name": "stdout",
     "output_type": "stream",
     "text": [
      "Alice, that was a great trick!\n",
      "I can't wait to see your next trick, Alice.\n",
      "\n",
      "Thank you everyone, that was a great magic show!\n",
      "David, that was a great trick!\n",
      "I can't wait to see your next trick, David.\n",
      "\n",
      "Thank you everyone, that was a great magic show!\n",
      "Carolina, that was a great trick!\n",
      "I can't wait to see your next trick, Carolina.\n",
      "\n",
      "Thank you everyone, that was a great magic show!\n"
     ]
    }
   ],
   "source": [
    "for magician in magicians:\n",
    "    print(magician.title() + \", that was a great trick!\")\n",
    "    print(\"I can't wait to see your next trick, \" + magician.title() + \".\\n\")\n",
    "    \n",
    "    print(\"Thank you everyone, that was a great magic show!\")"
   ]
  },
  {
   "cell_type": "markdown",
   "id": "008eb135",
   "metadata": {},
   "source": [
    "### Olvidarse de los dos puntos"
   ]
  },
  {
   "cell_type": "markdown",
   "id": "8062f0cc",
   "metadata": {},
   "source": [
    "- Se produce un *syntax error* porque Python no sabe qué estás tratando de hacer."
   ]
  },
  {
   "cell_type": "code",
   "execution_count": 14,
   "id": "3d973f2c",
   "metadata": {},
   "outputs": [
    {
     "ename": "SyntaxError",
     "evalue": "invalid syntax (Temp/ipykernel_7164/3138616194.py, line 1)",
     "output_type": "error",
     "traceback": [
      "\u001b[1;36m  File \u001b[1;32m\"C:\\Users\\ferna\\AppData\\Local\\Temp/ipykernel_7164/3138616194.py\"\u001b[1;36m, line \u001b[1;32m1\u001b[0m\n\u001b[1;33m    for magician in magicians\u001b[0m\n\u001b[1;37m                             ^\u001b[0m\n\u001b[1;31mSyntaxError\u001b[0m\u001b[1;31m:\u001b[0m invalid syntax\n"
     ]
    }
   ],
   "source": [
    "for magician in magicians\n",
    "    print(magician)"
   ]
  },
  {
   "cell_type": "markdown",
   "id": "d1f5e41b",
   "metadata": {},
   "source": [
    "## Creando listas numéricas\n",
    "---"
   ]
  },
  {
   "cell_type": "markdown",
   "id": "d2257e4d",
   "metadata": {},
   "source": [
    "- Las listas son ideales para almacenar conjuntos de numéros."
   ]
  },
  {
   "cell_type": "markdown",
   "id": "179b7f4c",
   "metadata": {},
   "source": [
    "### Usando la función `range()`"
   ]
  },
  {
   "cell_type": "markdown",
   "id": "87b1d2f7",
   "metadata": {},
   "source": [
    "- La función `range` hace fácil generar listas de números.\n",
    "- Esta función hace que Python empiece a contar desde el primer valor que pasas y se detiene en el segundo valor, sin mostrar este último por pantalla."
   ]
  },
  {
   "cell_type": "code",
   "execution_count": 15,
   "id": "168adda9",
   "metadata": {},
   "outputs": [
    {
     "name": "stdout",
     "output_type": "stream",
     "text": [
      "1\n",
      "2\n",
      "3\n",
      "4\n"
     ]
    }
   ],
   "source": [
    "for value in range(1,5):\n",
    "    print(value)"
   ]
  },
  {
   "cell_type": "markdown",
   "id": "2b8c4529",
   "metadata": {},
   "source": [
    "### Usando `range()` para crear listas de números"
   ]
  },
  {
   "cell_type": "markdown",
   "id": "f90c0b8a",
   "metadata": {},
   "source": [
    "- Cuando se usa la función `list()` y dentro la función `range()`, la salida será una lista de números.\n",
    "- Se puede introducir también la razón con la que el contador aumenta como un tercer argumento."
   ]
  },
  {
   "cell_type": "code",
   "execution_count": 16,
   "id": "c5290916",
   "metadata": {},
   "outputs": [
    {
     "name": "stdout",
     "output_type": "stream",
     "text": [
      "[1, 2, 3, 4, 5]\n"
     ]
    }
   ],
   "source": [
    "numbers = list(range(1,6))\n",
    "print(numbers)"
   ]
  },
  {
   "cell_type": "code",
   "execution_count": 17,
   "id": "fd1e64a9",
   "metadata": {},
   "outputs": [
    {
     "name": "stdout",
     "output_type": "stream",
     "text": [
      "[2, 4, 6, 8, 10]\n"
     ]
    }
   ],
   "source": [
    "even_numbers = list(range(2,11,2))\n",
    "print(even_numbers)"
   ]
  },
  {
   "cell_type": "code",
   "execution_count": 19,
   "id": "16c34dd2",
   "metadata": {},
   "outputs": [
    {
     "name": "stdout",
     "output_type": "stream",
     "text": [
      "[1, 4, 9, 16, 25, 36, 49, 64, 81, 100]\n"
     ]
    }
   ],
   "source": [
    "squares = []\n",
    "for value in range(1,11):\n",
    "    squares.append(value**2)\n",
    "print(squares)"
   ]
  },
  {
   "cell_type": "markdown",
   "id": "cd3c12a3",
   "metadata": {},
   "source": [
    "### Estadísticas simple con una lista de números"
   ]
  },
  {
   "cell_type": "markdown",
   "id": "06fd90cf",
   "metadata": {},
   "source": [
    "- Se puede fácilmente hallar el valor **mínimo**, **máximo** y la **suma** de una lista de números."
   ]
  },
  {
   "cell_type": "code",
   "execution_count": 22,
   "id": "55b6714f",
   "metadata": {},
   "outputs": [
    {
     "data": {
      "text/plain": [
       "0"
      ]
     },
     "execution_count": 22,
     "metadata": {},
     "output_type": "execute_result"
    }
   ],
   "source": [
    "digits = [1, 2, 3, 4, 5, 6, 7, 8, 9, 0]\n",
    "min(digits)"
   ]
  },
  {
   "cell_type": "code",
   "execution_count": 23,
   "id": "23946d50",
   "metadata": {},
   "outputs": [
    {
     "data": {
      "text/plain": [
       "9"
      ]
     },
     "execution_count": 23,
     "metadata": {},
     "output_type": "execute_result"
    }
   ],
   "source": [
    "max(digits)"
   ]
  },
  {
   "cell_type": "code",
   "execution_count": 24,
   "id": "0bb3f665",
   "metadata": {},
   "outputs": [
    {
     "data": {
      "text/plain": [
       "45"
      ]
     },
     "execution_count": 24,
     "metadata": {},
     "output_type": "execute_result"
    }
   ],
   "source": [
    "sum(digits)"
   ]
  },
  {
   "cell_type": "markdown",
   "id": "173dfb47",
   "metadata": {},
   "source": [
    "### *List Comprehensions*"
   ]
  },
  {
   "cell_type": "markdown",
   "id": "249d019e",
   "metadata": {},
   "source": [
    "- Una *list comprehension* permite generar una lista en una sola línea de código.\n",
    "- Combina los ciclos `for` y la creación de nuevos elementos en una línea que se colocan automáticamente al final de la lista.\n",
    "- No siempre son enseñadas a principiantes."
   ]
  },
  {
   "cell_type": "code",
   "execution_count": 25,
   "id": "de24c7fe",
   "metadata": {},
   "outputs": [
    {
     "name": "stdout",
     "output_type": "stream",
     "text": [
      "[1, 4, 9, 16, 25, 36, 49, 64, 81, 100]\n"
     ]
    }
   ],
   "source": [
    "squares = [value**2 for value in range(1,11)]\n",
    "print(squares)"
   ]
  },
  {
   "cell_type": "markdown",
   "id": "ffba108e",
   "metadata": {},
   "source": [
    "## Trabajando con parte de una lista\n",
    "---"
   ]
  },
  {
   "cell_type": "markdown",
   "id": "b8aa7b4e",
   "metadata": {},
   "source": [
    "### *Slicing a list*"
   ]
  },
  {
   "cell_type": "markdown",
   "id": "5adc67e9",
   "metadata": {},
   "source": [
    "- Para hacer un *slice* se debe especificar el índice del primer y último elemento con los que quieres trabajar.\n",
    "- Así como con la función `range()`, Python se detiene antes de llegar al segundo índice que especificas."
   ]
  },
  {
   "cell_type": "code",
   "execution_count": 5,
   "id": "841d12fe",
   "metadata": {},
   "outputs": [
    {
     "name": "stdout",
     "output_type": "stream",
     "text": [
      "['charles', 'martina', 'michael']\n"
     ]
    }
   ],
   "source": [
    "players = ['charles', 'martina', 'michael', 'florence', 'eli']\n",
    "print(players[0:3])"
   ]
  },
  {
   "cell_type": "markdown",
   "id": "35ff312b",
   "metadata": {},
   "source": [
    "- Se puede omitir el primer índice y Python interpreta que se debe empezar desde el principio de la lista."
   ]
  },
  {
   "cell_type": "code",
   "execution_count": 7,
   "id": "c2f6bf29",
   "metadata": {},
   "outputs": [
    {
     "name": "stdout",
     "output_type": "stream",
     "text": [
      "['charles', 'martina', 'michael', 'florence']\n"
     ]
    }
   ],
   "source": [
    "print(players[:4])"
   ]
  },
  {
   "cell_type": "markdown",
   "id": "cbf8ebf5",
   "metadata": {},
   "source": [
    "- Se puede omitir el segundo índice y Python interpreta que se debe terminar de hacer el *slice* hasta el final de la lista."
   ]
  },
  {
   "cell_type": "code",
   "execution_count": 8,
   "id": "e490573d",
   "metadata": {},
   "outputs": [
    {
     "name": "stdout",
     "output_type": "stream",
     "text": [
      "['michael', 'florence', 'eli']\n"
     ]
    }
   ],
   "source": [
    "print(players[2:])"
   ]
  },
  {
   "cell_type": "markdown",
   "id": "159b16ac",
   "metadata": {},
   "source": [
    "- También se puede usar índices negativos."
   ]
  },
  {
   "cell_type": "code",
   "execution_count": 10,
   "id": "24506328",
   "metadata": {},
   "outputs": [
    {
     "name": "stdout",
     "output_type": "stream",
     "text": [
      "['michael', 'florence', 'eli']\n"
     ]
    }
   ],
   "source": [
    "print(players[-3:]) # Imprime los últimos 3 elementos"
   ]
  },
  {
   "cell_type": "markdown",
   "id": "b8d082ca",
   "metadata": {},
   "source": [
    "### Recorriendo a través de un *slice*"
   ]
  },
  {
   "cell_type": "markdown",
   "id": "22da7a29",
   "metadata": {},
   "source": [
    "- También se puede usar un *slice* dentro de un ciclo `for` para recorrer solo un subconjunto de los elementos de la lista."
   ]
  },
  {
   "cell_type": "code",
   "execution_count": 11,
   "id": "4ac2fc17",
   "metadata": {},
   "outputs": [
    {
     "name": "stdout",
     "output_type": "stream",
     "text": [
      "Here are the first three players on my team:\n",
      "Charles\n",
      "Martina\n",
      "Michael\n"
     ]
    }
   ],
   "source": [
    "print(\"Here are the first three players on my team:\")\n",
    "for player in players[:3]:\n",
    "    print(player.title())"
   ]
  },
  {
   "cell_type": "markdown",
   "id": "a4b00811",
   "metadata": {},
   "source": [
    "### Copiando una lista"
   ]
  },
  {
   "cell_type": "markdown",
   "id": "2dbe70fc",
   "metadata": {},
   "source": [
    "- Para copiar todo el contenido de una lista se puede asignar a otra variable el *slice* de todos los elementos sin colocar índices.\n",
    "- Se crean dos listas separadas (independientes)."
   ]
  },
  {
   "cell_type": "code",
   "execution_count": 19,
   "id": "36b723ed",
   "metadata": {},
   "outputs": [
    {
     "name": "stdout",
     "output_type": "stream",
     "text": [
      "My favorite foods are:\n",
      "['pizza', 'falafel', 'carrot cake', 'cannoli']\n",
      "\n",
      "My friend's favorite foods are:\n",
      "['pizza', 'falafel', 'carrot cake', 'ice cream']\n"
     ]
    }
   ],
   "source": [
    "my_foods = ['pizza', 'falafel', 'carrot cake']\n",
    "friend_foods = my_foods[:]\n",
    "\n",
    "my_foods.append('cannoli')\n",
    "friend_foods.append('ice cream')\n",
    "\n",
    "print(\"My favorite foods are:\")\n",
    "print(my_foods)\n",
    "\n",
    "print(\"\\nMy friend's favorite foods are:\")\n",
    "print(friend_foods)"
   ]
  },
  {
   "cell_type": "markdown",
   "id": "a3e8a4bf",
   "metadata": {},
   "source": [
    "- Si hiciéramos `friend_foods = my_foods` estaríamos conectando ambas listas y ambas variables apuntarían a la misma lista."
   ]
  },
  {
   "cell_type": "code",
   "execution_count": 20,
   "id": "dce678b1",
   "metadata": {},
   "outputs": [
    {
     "name": "stdout",
     "output_type": "stream",
     "text": [
      "My favorite foods are:\n",
      "['pizza', 'falafel', 'carrot cake', 'cannoli', 'ice cream']\n",
      "\n",
      "My friend's favorite foods are:\n",
      "['pizza', 'falafel', 'carrot cake', 'cannoli', 'ice cream']\n"
     ]
    }
   ],
   "source": [
    "my_foods = ['pizza', 'falafel', 'carrot cake']\n",
    "friend_foods = my_foods\n",
    "\n",
    "my_foods.append('cannoli')\n",
    "friend_foods.append('ice cream')\n",
    "\n",
    "print(\"My favorite foods are:\")\n",
    "print(my_foods)\n",
    "\n",
    "print(\"\\nMy friend's favorite foods are:\")\n",
    "print(friend_foods)"
   ]
  },
  {
   "cell_type": "markdown",
   "id": "57f3319a",
   "metadata": {},
   "source": [
    "## Tuplas (*tuples*)\n",
    "---"
   ]
  },
  {
   "cell_type": "markdown",
   "id": "b128a1a2",
   "metadata": {},
   "source": [
    "- Las listas funcionan bien para almacenar conjuntos de artículos  que pueden cambiar a lo largo de la vida del programa.\n",
    "- A veces querrás crear una lista de artículos que no puedan cambiar.\n",
    "- Python se refiere a los valores que no cambian como **inmutables**.\n",
    "- Una lista inmutable es llamada una **tupla**."
   ]
  },
  {
   "cell_type": "markdown",
   "id": "a78f7a8f",
   "metadata": {},
   "source": [
    "### Definiendo una tupla"
   ]
  },
  {
   "cell_type": "markdown",
   "id": "ade2ac08",
   "metadata": {},
   "source": [
    "- Una tupla luce igual a una lista, a diferencia de que la tupla utiliza **paréntesis en lugar de corchetes**.\n",
    "- Una vez definida la tupla, se puede acceder a sus elementos como si se tratara de una lista.\n",
    "- Si se intenta modificar la lista, Python arrojará un *TypeError*."
   ]
  },
  {
   "cell_type": "code",
   "execution_count": 21,
   "id": "a1660592",
   "metadata": {},
   "outputs": [
    {
     "name": "stdout",
     "output_type": "stream",
     "text": [
      "200\n",
      "50\n"
     ]
    }
   ],
   "source": [
    "dimensions = (200, 50)\n",
    "print(dimensions[0])\n",
    "print(dimensions[1])"
   ]
  },
  {
   "cell_type": "code",
   "execution_count": 24,
   "id": "e2d2e149",
   "metadata": {},
   "outputs": [
    {
     "ename": "TypeError",
     "evalue": "'tuple' object does not support item assignment",
     "output_type": "error",
     "traceback": [
      "\u001b[1;31m---------------------------------------------------------------------------\u001b[0m",
      "\u001b[1;31mTypeError\u001b[0m                                 Traceback (most recent call last)",
      "\u001b[1;32m~\\AppData\\Local\\Temp/ipykernel_1000/106102430.py\u001b[0m in \u001b[0;36m<module>\u001b[1;34m\u001b[0m\n\u001b[1;32m----> 1\u001b[1;33m \u001b[0mdimensions\u001b[0m\u001b[1;33m[\u001b[0m\u001b[1;36m0\u001b[0m\u001b[1;33m]\u001b[0m \u001b[1;33m=\u001b[0m \u001b[1;36m250\u001b[0m\u001b[1;33m\u001b[0m\u001b[1;33m\u001b[0m\u001b[0m\n\u001b[0m",
      "\u001b[1;31mTypeError\u001b[0m: 'tuple' object does not support item assignment"
     ]
    }
   ],
   "source": [
    "dimensions[0] = 250"
   ]
  },
  {
   "cell_type": "markdown",
   "id": "2bd5c31f",
   "metadata": {},
   "source": [
    "### Recorriendo a través de todos los valores en una tupla"
   ]
  },
  {
   "cell_type": "markdown",
   "id": "42517085",
   "metadata": {},
   "source": [
    "- Se puede crear un ciclo de la misma manera que para una lista."
   ]
  },
  {
   "cell_type": "code",
   "execution_count": 25,
   "id": "4535f570",
   "metadata": {},
   "outputs": [
    {
     "name": "stdout",
     "output_type": "stream",
     "text": [
      "200\n",
      "50\n"
     ]
    }
   ],
   "source": [
    "for dimension in dimensions:\n",
    "    print(dimension)"
   ]
  },
  {
   "cell_type": "markdown",
   "id": "c1e85038",
   "metadata": {},
   "source": [
    "### Sobreescribiendo una tupla"
   ]
  },
  {
   "cell_type": "markdown",
   "id": "105a6a4b",
   "metadata": {},
   "source": [
    "- Aunque no se puede modificar una tupla, se puede asignar un nuevo valor a la variable que contiene la tupla."
   ]
  },
  {
   "cell_type": "code",
   "execution_count": 26,
   "id": "d32b4ba2",
   "metadata": {},
   "outputs": [
    {
     "name": "stdout",
     "output_type": "stream",
     "text": [
      "Original dimensions:\n",
      "200\n",
      "50\n",
      "\n",
      "Modified dimensions:\n",
      "400\n",
      "100\n"
     ]
    }
   ],
   "source": [
    "dimensions = (200, 50)\n",
    "print(\"Original dimensions:\")\n",
    "for dimension in dimensions:\n",
    "    print(dimension)\n",
    "    \n",
    "dimensions = (400, 100)\n",
    "print(\"\\nModified dimensions:\")\n",
    "for dimension in dimensions:\n",
    "    print(dimension)"
   ]
  },
  {
   "cell_type": "markdown",
   "id": "315a8959",
   "metadata": {},
   "source": [
    "## Estilizando tu código\n",
    "---"
   ]
  },
  {
   "cell_type": "markdown",
   "id": "bd86bf93",
   "metadata": {},
   "source": [
    "### La guía de estilo"
   ]
  },
  {
   "cell_type": "markdown",
   "id": "bab072a0",
   "metadata": {},
   "source": [
    "- Cuando alguien quiere hacer un cambio al lenguaje de Python, escribe un *Python Enhancement Proposal (PEP)*.\n",
    "- Uno de los más antiguos *(PEP)* es ***PEP8*** que instruye a los programadores de Python en cómo estilizaar su código.\n",
    "- Esta guía de estilo fue escrita entendiendo que se pasa más tiempo leyendo código, que escribiéndolo.\n",
    "- El código se escribe una vez, pero luego se debe leer cuando:\n",
    "    * Se depura\n",
    "    * Se añaden características al programa\n",
    "    * Se comparte con otro programadores"
   ]
  },
  {
   "cell_type": "markdown",
   "id": "ea195b3d",
   "metadata": {},
   "source": [
    "### Indentación"
   ]
  },
  {
   "cell_type": "markdown",
   "id": "6425f7c5",
   "metadata": {},
   "source": [
    "- *PEP8* recomienda usar 4 espacios para indentar.\n",
    "- Mezclar tabulaciones y espacios en tu archivo puede causar problemas que son muy difíciles de diagnosticar.\n",
    "- Por lo tanto, debes configurar correctamente tu editor de texto."
   ]
  },
  {
   "cell_type": "markdown",
   "id": "5a7467f7",
   "metadata": {},
   "source": [
    "### Longitud de líneas"
   ]
  },
  {
   "cell_type": "markdown",
   "id": "95edcaa0",
   "metadata": {},
   "source": [
    "- Muchos programadores Python recomiendan que **cada línea debe se de menos de 80 caracteres**.\n",
    "- *PEP8* también recomienda **limitar todos los comentarios a 72 caracteres por línea**.\n",
    "- La mayoría de editores permiten colocar una línea vertical en la pantalla que muestra donde se encuentran esos límites."
   ]
  },
  {
   "cell_type": "markdown",
   "id": "a1edf8f2",
   "metadata": {},
   "source": [
    "### Líneas en blanco"
   ]
  },
  {
   "cell_type": "markdown",
   "id": "5a62679f",
   "metadata": {},
   "source": [
    "- Para agrupar partes del programa visualmente, usa líneas en blanco.\n",
    "- Úsalas para organizar tus archivos, pero no exceso.\n",
    "- Estas líneas no afectarán cómo se ejecuta tu código, pero sí afectarán la legibilidad de tú código."
   ]
  }
 ],
 "metadata": {
  "kernelspec": {
   "display_name": "Python 3 (ipykernel)",
   "language": "python",
   "name": "python3"
  },
  "language_info": {
   "codemirror_mode": {
    "name": "ipython",
    "version": 3
   },
   "file_extension": ".py",
   "mimetype": "text/x-python",
   "name": "python",
   "nbconvert_exporter": "python",
   "pygments_lexer": "ipython3",
   "version": "3.9.5"
  }
 },
 "nbformat": 4,
 "nbformat_minor": 5
}

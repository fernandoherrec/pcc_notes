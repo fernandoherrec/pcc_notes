{
 "cells": [
  {
   "cell_type": "markdown",
   "id": "19115b5f",
   "metadata": {},
   "source": [
    "# INTRODUCCIÓN  A LAS LISTAS"
   ]
  },
  {
   "cell_type": "markdown",
   "id": "b6a34d7e",
   "metadata": {},
   "source": [
    "- Las listas permiten almacenar conjuntos de información en un lugar, desde algunos pocos elementos hasta millones de ellos.\n",
    "- Las listas es una de las características más poderosas para nuevos programadores."
   ]
  },
  {
   "cell_type": "markdown",
   "id": "59202bd2",
   "metadata": {},
   "source": [
    "## ¿Qué es una lista?\n",
    "---"
   ]
  },
  {
   "cell_type": "markdown",
   "id": "1d938333",
   "metadata": {},
   "source": [
    "- Una **lista** es una colección de artículos en un **orden particular**.\n",
    "- Puedes hacer una lista que incluya:\n",
    "    * Las letras del alfabeto\n",
    "    * Los números del 0 al 9\n",
    "    * Los nombres de los integrantes de tu familia.\n",
    "- Se recomienda colocar los nombres de las listas en plural como `letras`, `dígitos` o `nombres`."
   ]
  },
  {
   "cell_type": "code",
   "execution_count": 1,
   "id": "45caeca2",
   "metadata": {},
   "outputs": [
    {
     "name": "stdout",
     "output_type": "stream",
     "text": [
      "['trek', 'cannondale', 'redline', 'specialized']\n"
     ]
    }
   ],
   "source": [
    "bicycles = ['trek', 'cannondale', 'redline', 'specialized']\n",
    "print(bicycles)"
   ]
  },
  {
   "cell_type": "markdown",
   "id": "d8e445aa",
   "metadata": {},
   "source": [
    "### Accediendo a los elementos de una lista"
   ]
  },
  {
   "cell_type": "markdown",
   "id": "65ea2790",
   "metadata": {},
   "source": [
    "- Las listas son **colecciones ordenadas**.\n",
    "- Se puede acceder a cualquier elemento diciéndole a Python la posicion o índice del elemento.\n",
    "- Se escribe el nombre de la lista seguida por el índice del artículo encerrado en corchetes."
   ]
  },
  {
   "cell_type": "code",
   "execution_count": 2,
   "id": "1e569b4c",
   "metadata": {},
   "outputs": [
    {
     "name": "stdout",
     "output_type": "stream",
     "text": [
      "trek\n"
     ]
    }
   ],
   "source": [
    "print(bicycles[0])"
   ]
  },
  {
   "cell_type": "markdown",
   "id": "38590dbd",
   "metadata": {},
   "source": [
    "### El índice de posiciones empieza en 0, no en 1"
   ]
  },
  {
   "cell_type": "markdown",
   "id": "f610cf4b",
   "metadata": {},
   "source": [
    "- Python considera que **el primer artículo de una lista está en la posición 0**, no en la posición 1.\n",
    "- El segundo artículo en una lista tiene el índice 1.\n",
    "- Por ejemplo, para acceder al cuarto elemento de una lista, debes solicitar el elemento de índice 3."
   ]
  },
  {
   "cell_type": "code",
   "execution_count": 3,
   "id": "0af3690f",
   "metadata": {},
   "outputs": [
    {
     "name": "stdout",
     "output_type": "stream",
     "text": [
      "cannondale\n",
      "specialized\n"
     ]
    }
   ],
   "source": [
    "print(bicycles[1])\n",
    "print(bicycles[3])"
   ]
  },
  {
   "cell_type": "markdown",
   "id": "8e941b41",
   "metadata": {},
   "source": [
    "- Para acceder al último artículo de una lista se utiliza el índice -1."
   ]
  },
  {
   "cell_type": "code",
   "execution_count": 5,
   "id": "cc01b9e0",
   "metadata": {},
   "outputs": [
    {
     "name": "stdout",
     "output_type": "stream",
     "text": [
      "specialized\n"
     ]
    }
   ],
   "source": [
    "print(bicycles[-1])"
   ]
  },
  {
   "cell_type": "markdown",
   "id": "324a97fb",
   "metadata": {},
   "source": [
    "### Usando valores de una lista"
   ]
  },
  {
   "cell_type": "markdown",
   "id": "40ac658a",
   "metadata": {},
   "source": [
    "- Puedes usar los elementos de una lista como cualquier otra variable.\n",
    "- Por ejemplo, puedes concatenar para crear un mensaje basado en un valor de la lista."
   ]
  },
  {
   "cell_type": "code",
   "execution_count": 6,
   "id": "e7c0e2d5",
   "metadata": {},
   "outputs": [
    {
     "name": "stdout",
     "output_type": "stream",
     "text": [
      "My first bicycle was a Trek.\n"
     ]
    }
   ],
   "source": [
    "message = \"My first bicycle was a \" + bicycles[0].title() + \".\"\n",
    "print(message)"
   ]
  },
  {
   "cell_type": "markdown",
   "id": "2dea24da",
   "metadata": {},
   "source": [
    "## Cambiando, añadiendo y removiendo elementos\n",
    "---"
   ]
  },
  {
   "cell_type": "markdown",
   "id": "28b35bad",
   "metadata": {},
   "source": [
    "- La mayoría de listas que crees serán dinámicas, lo que significa que añadirás y removerás elementos de la lista conforme se corra el programa."
   ]
  },
  {
   "cell_type": "markdown",
   "id": "241e640e",
   "metadata": {},
   "source": [
    "### Modificando elementos en una lista"
   ]
  },
  {
   "cell_type": "markdown",
   "id": "56cdc223",
   "metadata": {},
   "source": [
    "- Sintaxis similar a la que se usa para acceder a un elemento de una lista.\n",
    "- Se usa el nombre de la lista seguido por el índice del elemento, y luego se provee el nuevo valor que quieres que tenga el artículo."
   ]
  },
  {
   "cell_type": "code",
   "execution_count": 1,
   "id": "dd6ea240",
   "metadata": {},
   "outputs": [
    {
     "name": "stdout",
     "output_type": "stream",
     "text": [
      "['honda', 'yamaha', 'suzuki']\n"
     ]
    }
   ],
   "source": [
    "motorcycles = ['honda', 'yamaha', 'suzuki']\n",
    "print(motorcycles)"
   ]
  },
  {
   "cell_type": "code",
   "execution_count": 2,
   "id": "beee1da5",
   "metadata": {},
   "outputs": [
    {
     "name": "stdout",
     "output_type": "stream",
     "text": [
      "['ducati', 'yamaha', 'suzuki']\n"
     ]
    }
   ],
   "source": [
    "motorcycles[0] = 'ducati'\n",
    "print(motorcycles)"
   ]
  },
  {
   "cell_type": "markdown",
   "id": "2205bbac",
   "metadata": {},
   "source": [
    "### Añadiendo elementos a una lista"
   ]
  },
  {
   "cell_type": "markdown",
   "id": "dbf02d7a",
   "metadata": {},
   "source": [
    "- Para añadir elementos **al final de una lista** se utiliza el método `.append()`.}\n",
    "- Este método permite contruir listas dinámicas fácilmente."
   ]
  },
  {
   "cell_type": "code",
   "execution_count": 11,
   "id": "461ac23d",
   "metadata": {},
   "outputs": [
    {
     "name": "stdout",
     "output_type": "stream",
     "text": [
      "['honda', 'yamaha', 'suzuki', 'ducati']\n"
     ]
    }
   ],
   "source": [
    "motorcycles = ['honda', 'yamaha', 'suzuki']\n",
    "motorcycles.append('ducati')\n",
    "print(motorcycles)"
   ]
  },
  {
   "cell_type": "code",
   "execution_count": 5,
   "id": "fa7e6f69",
   "metadata": {},
   "outputs": [
    {
     "name": "stdout",
     "output_type": "stream",
     "text": [
      "['honda', 'yamaha', 'suzuki']\n"
     ]
    }
   ],
   "source": [
    "motorcycles = []\n",
    "motorcycles.append('honda')\n",
    "motorcycles.append('yamaha')\n",
    "motorcycles.append('suzuki')\n",
    "print(motorcycles)"
   ]
  },
  {
   "cell_type": "markdown",
   "id": "f2d9867b",
   "metadata": {},
   "source": [
    "- Para insertar elementos **en cualquier posición** se utiliza el método `.insert()` especificando la posición en la que se quiere insertar los elementos, y los elementos que se añadirán a la lista.\n",
    "- El resto de valores se mueven hacia la derecha."
   ]
  },
  {
   "cell_type": "code",
   "execution_count": 6,
   "id": "bdb5b227",
   "metadata": {},
   "outputs": [
    {
     "name": "stdout",
     "output_type": "stream",
     "text": [
      "['ducati', 'honda', 'yamaha', 'suzuki']\n"
     ]
    }
   ],
   "source": [
    "motorcycles.insert(0, 'ducati')\n",
    "print(motorcycles)"
   ]
  },
  {
   "cell_type": "markdown",
   "id": "0390ec80",
   "metadata": {},
   "source": [
    "### Removiendo elementos de una lista"
   ]
  },
  {
   "cell_type": "markdown",
   "id": "6880de36",
   "metadata": {},
   "source": [
    "- **Si se conoce la posición del elemento** a remover se puede usar la sentencia `del`.\n",
    "- El valor removido ya no es más accesible."
   ]
  },
  {
   "cell_type": "code",
   "execution_count": 14,
   "id": "c0e835e3",
   "metadata": {},
   "outputs": [
    {
     "name": "stdout",
     "output_type": "stream",
     "text": [
      "['yamaha', 'suzuki']\n"
     ]
    }
   ],
   "source": [
    "motorcycles = ['honda', 'yamaha', 'suzuki']\n",
    "del motorcycles[0]\n",
    "print(motorcycles)"
   ]
  },
  {
   "cell_type": "code",
   "execution_count": 13,
   "id": "df5bb4c7",
   "metadata": {},
   "outputs": [
    {
     "name": "stdout",
     "output_type": "stream",
     "text": [
      "['honda', 'suzuki']\n"
     ]
    }
   ],
   "source": [
    "motorcycles = ['honda', 'yamaha', 'suzuki']\n",
    "del motorcycles[1]\n",
    "print(motorcycles)"
   ]
  },
  {
   "cell_type": "markdown",
   "id": "183b5ae7",
   "metadata": {},
   "source": [
    "- Se puede usar el método `.pop()` para **remover el último elemento** de una lista, pero da la posibilidad de trabajar con el elemento luego de ser removido."
   ]
  },
  {
   "cell_type": "code",
   "execution_count": 15,
   "id": "4c616906",
   "metadata": {},
   "outputs": [
    {
     "name": "stdout",
     "output_type": "stream",
     "text": [
      "['honda', 'yamaha', 'suzuki']\n",
      "['honda', 'yamaha']\n",
      "suzuki\n"
     ]
    }
   ],
   "source": [
    "motorcycles = ['honda', 'yamaha', 'suzuki']\n",
    "print(motorcycles)\n",
    "popped_motorcycle = motorcycles.pop() \n",
    "print(motorcycles) #Lista modificada\n",
    "print(popped_motorcycle) #Elemento removido "
   ]
  },
  {
   "cell_type": "code",
   "execution_count": 16,
   "id": "26897f46",
   "metadata": {},
   "outputs": [
    {
     "name": "stdout",
     "output_type": "stream",
     "text": [
      "The last motorcycle I owned was a Suzuki.\n"
     ]
    }
   ],
   "source": [
    "motorcycles = ['honda', 'yamaha', 'suzuki'] \n",
    "last_owned = motorcycles.pop() \n",
    "print(\"The last motorcycle I owned was a \" + last_owned.title() + \".\")"
   ]
  },
  {
   "cell_type": "markdown",
   "id": "0f62ee17",
   "metadata": {},
   "source": [
    "- El método `.pop()` también se puede usar para remover un elemento de cualquier posición y ser utilizado luego.\n",
    "- Para eso se debe incluir entre paréntesis la posición del elemento que se quiere remover."
   ]
  },
  {
   "cell_type": "code",
   "execution_count": 18,
   "id": "f8eba02e",
   "metadata": {},
   "outputs": [
    {
     "name": "stdout",
     "output_type": "stream",
     "text": [
      "The first motorcycle I owned was a Honda.\n"
     ]
    }
   ],
   "source": [
    "motorcycles = ['honda', 'yamaha', 'suzuki']\n",
    "first_owned = motorcycles.pop(0)\n",
    "print('The first motorcycle I owned was a ' + first_owned.title() + '.')"
   ]
  },
  {
   "cell_type": "markdown",
   "id": "11d4b457",
   "metadata": {},
   "source": [
    "- **Si no se conoce la posición del elemento** a remover, se puede utilizar el método `.remove()` conociéndose el valor del elemento.\n",
    "- Se pueden utilizar variables para acceder al valor del elemento.\n",
    "- Este método remueve solo el primer elemento que encuentre con ese valor, para remover todos los elementos con dicho valor se tendría que utilizar un bucle."
   ]
  },
  {
   "cell_type": "code",
   "execution_count": 19,
   "id": "df727bf3",
   "metadata": {},
   "outputs": [
    {
     "name": "stdout",
     "output_type": "stream",
     "text": [
      "['honda', 'yamaha', 'suzuki', 'ducati']\n",
      "['honda', 'yamaha', 'suzuki']\n"
     ]
    }
   ],
   "source": [
    "motorcycles = ['honda', 'yamaha', 'suzuki', 'ducati'] \n",
    "print(motorcycles)\n",
    "motorcycles.remove('ducati')\n",
    "print(motorcycles)"
   ]
  },
  {
   "cell_type": "code",
   "execution_count": 22,
   "id": "979f7b7c",
   "metadata": {},
   "outputs": [
    {
     "name": "stdout",
     "output_type": "stream",
     "text": [
      "['honda', 'yamaha', 'suzuki', 'ducati']\n",
      "['honda', 'yamaha', 'suzuki']\n",
      "\n",
      "A Ducati is too expensive for me.\n"
     ]
    }
   ],
   "source": [
    " motorcycles = ['honda', 'yamaha', 'suzuki', 'ducati'] \n",
    "print(motorcycles)\n",
    "too_expensive = 'ducati'\n",
    "motorcycles.remove(too_expensive)\n",
    "print(motorcycles)\n",
    "print(\"\\nA \" + too_expensive.title() + \" is too expensive for me.\")"
   ]
  },
  {
   "cell_type": "markdown",
   "id": "ded0497d",
   "metadata": {},
   "source": [
    "## Organizando una lista\n",
    "---"
   ]
  },
  {
   "cell_type": "markdown",
   "id": "97abb626",
   "metadata": {},
   "source": [
    "### Ordenando una lista con el método `.sort()`"
   ]
  },
  {
   "cell_type": "markdown",
   "id": "6e821256",
   "metadata": {},
   "source": [
    "- El método `.sort()` cambia el orden de una lista para ordenarla alfabéticamente.\n",
    "- Para ordenar la lista en orden alfabético inverso, se debe pasar el argumento `reverse=True` al método `.sort()`.\n",
    "- Este método modifica la lista original.\n",
    "- Se trabajará con todas las letras en minúsculas, por simplicidad."
   ]
  },
  {
   "cell_type": "code",
   "execution_count": 27,
   "id": "ff3512ad",
   "metadata": {
    "scrolled": true
   },
   "outputs": [
    {
     "name": "stdout",
     "output_type": "stream",
     "text": [
      "['audi', 'bmw', 'subaru', 'toyota']\n",
      "['toyota', 'subaru', 'bmw', 'audi']\n"
     ]
    }
   ],
   "source": [
    "cars = ['bmw', 'audi', 'toyota', 'subaru']\n",
    "cars.sort()\n",
    "print(cars)\n",
    "cars.sort(reverse=True)\n",
    "print(cars)"
   ]
  },
  {
   "cell_type": "markdown",
   "id": "1149c5ba",
   "metadata": {},
   "source": [
    "### Ordenando temporalmente una lista con la función `sorted()`"
   ]
  },
  {
   "cell_type": "markdown",
   "id": "e14f6a0a",
   "metadata": {},
   "source": [
    "- Si se quiere mantener el orden original de la lista, se puede usar la función `sorted()`.\n",
    "- Ordena **temporalmente** la lista.\n",
    "- También acepta el argumento `reverse=True`."
   ]
  },
  {
   "cell_type": "code",
   "execution_count": 26,
   "id": "bd021b1f",
   "metadata": {},
   "outputs": [
    {
     "name": "stdout",
     "output_type": "stream",
     "text": [
      "Here is the original list:\n",
      "['bmw', 'audi', 'toyota', 'subaru']\n",
      "\n",
      "Here is the sorted list:\n",
      "['audi', 'bmw', 'subaru', 'toyota']\n",
      "\n",
      "Here is the sorted list in reverse:\n",
      "['toyota', 'subaru', 'bmw', 'audi']\n"
     ]
    }
   ],
   "source": [
    "cars = ['bmw', 'audi', 'toyota', 'subaru']\n",
    "print(\"Here is the original list:\")\n",
    "print(cars)\n",
    "print(\"\\nHere is the sorted list:\")\n",
    "print(sorted(cars))\n",
    "print(\"\\nHere is the sorted list in reverse:\")\n",
    "print(sorted(cars, reverse=True))"
   ]
  },
  {
   "cell_type": "markdown",
   "id": "b5485383",
   "metadata": {},
   "source": [
    "### Imprimir una lista en orden inverso"
   ]
  },
  {
   "cell_type": "markdown",
   "id": "bad81f64",
   "metadata": {},
   "source": [
    "- El método `.reverse()` cambia **permanentemente** el orden de una lista para mostrarla en **orden inverso original**.\n",
    "- No muestra la lista en orden alfabético inverso.\n",
    "- Para recuperar la lista original se puede utilizar por segunda vez el método `.reverse()`."
   ]
  },
  {
   "cell_type": "code",
   "execution_count": 28,
   "id": "d6a1f4aa",
   "metadata": {},
   "outputs": [
    {
     "name": "stdout",
     "output_type": "stream",
     "text": [
      "['bmw', 'audi', 'toyota', 'subaru']\n",
      "['subaru', 'toyota', 'audi', 'bmw']\n"
     ]
    }
   ],
   "source": [
    "cars = ['bmw', 'audi', 'toyota', 'subaru']\n",
    "print(cars)\n",
    "cars.reverse()\n",
    "print(cars)"
   ]
  },
  {
   "cell_type": "markdown",
   "id": "a229af12",
   "metadata": {},
   "source": [
    "### Encontrando la longitud de una lista"
   ]
  },
  {
   "cell_type": "markdown",
   "id": "a0cefcba",
   "metadata": {},
   "source": [
    "- Se puede hallar fácilmente la longitud de una lista con la función `len()`.\n",
    "- Python empieza a contar los elementos de una lista desde 1."
   ]
  },
  {
   "cell_type": "code",
   "execution_count": 29,
   "id": "42ac87b2",
   "metadata": {},
   "outputs": [
    {
     "data": {
      "text/plain": [
       "4"
      ]
     },
     "execution_count": 29,
     "metadata": {},
     "output_type": "execute_result"
    }
   ],
   "source": [
    "cars = ['bmw', 'audi', 'toyota', 'subaru']\n",
    "len(cars)"
   ]
  },
  {
   "cell_type": "markdown",
   "id": "104ce42c",
   "metadata": {},
   "source": [
    "## Evitando *Index errors* cuando se trabaja con listas\n",
    "---"
   ]
  },
  {
   "cell_type": "markdown",
   "id": "d438a922",
   "metadata": {},
   "source": [
    "- Los errores de índice se dan cuando Python no encuentra el elemento con el índice al que se quiere acceder debido a que no existe un elemento con dicho índice.\n",
    "- Recordar que el último elemento de una lista tiene el índice -1.\n",
    "- Si se tiene problemas intentando corregir un error de índice, puedes ayudarte imprimiendo la lista o su longitud, porque puede que sea diferente a cómo te la imaginas."
   ]
  },
  {
   "cell_type": "code",
   "execution_count": 30,
   "id": "3f81c3e1",
   "metadata": {},
   "outputs": [
    {
     "ename": "IndexError",
     "evalue": "list index out of range",
     "output_type": "error",
     "traceback": [
      "\u001b[1;31m---------------------------------------------------------------------------\u001b[0m",
      "\u001b[1;31mIndexError\u001b[0m                                Traceback (most recent call last)",
      "\u001b[1;32m~\\AppData\\Local\\Temp/ipykernel_10740/2725050657.py\u001b[0m in \u001b[0;36m<module>\u001b[1;34m\u001b[0m\n\u001b[0;32m      1\u001b[0m \u001b[0mmotorcycles\u001b[0m \u001b[1;33m=\u001b[0m \u001b[1;33m[\u001b[0m\u001b[1;34m'honda'\u001b[0m\u001b[1;33m,\u001b[0m \u001b[1;34m'yamaha'\u001b[0m\u001b[1;33m,\u001b[0m \u001b[1;34m'suzuki'\u001b[0m\u001b[1;33m]\u001b[0m\u001b[1;33m\u001b[0m\u001b[1;33m\u001b[0m\u001b[0m\n\u001b[1;32m----> 2\u001b[1;33m \u001b[0mprint\u001b[0m\u001b[1;33m(\u001b[0m\u001b[0mmotorcycles\u001b[0m\u001b[1;33m[\u001b[0m\u001b[1;36m3\u001b[0m\u001b[1;33m]\u001b[0m\u001b[1;33m)\u001b[0m\u001b[1;33m\u001b[0m\u001b[1;33m\u001b[0m\u001b[0m\n\u001b[0m",
      "\u001b[1;31mIndexError\u001b[0m: list index out of range"
     ]
    }
   ],
   "source": [
    "motorcycles = ['honda', 'yamaha', 'suzuki'] \n",
    "print(motorcycles[3])"
   ]
  },
  {
   "cell_type": "code",
   "execution_count": 31,
   "id": "1c0e8f28",
   "metadata": {},
   "outputs": [
    {
     "ename": "IndexError",
     "evalue": "list index out of range",
     "output_type": "error",
     "traceback": [
      "\u001b[1;31m---------------------------------------------------------------------------\u001b[0m",
      "\u001b[1;31mIndexError\u001b[0m                                Traceback (most recent call last)",
      "\u001b[1;32m~\\AppData\\Local\\Temp/ipykernel_10740/2760443542.py\u001b[0m in \u001b[0;36m<module>\u001b[1;34m\u001b[0m\n\u001b[0;32m      1\u001b[0m \u001b[0mmotorcycles\u001b[0m \u001b[1;33m=\u001b[0m \u001b[1;33m[\u001b[0m\u001b[1;33m]\u001b[0m\u001b[1;33m\u001b[0m\u001b[1;33m\u001b[0m\u001b[0m\n\u001b[1;32m----> 2\u001b[1;33m \u001b[0mprint\u001b[0m\u001b[1;33m(\u001b[0m\u001b[0mmotorcycles\u001b[0m\u001b[1;33m[\u001b[0m\u001b[1;33m-\u001b[0m\u001b[1;36m1\u001b[0m\u001b[1;33m]\u001b[0m\u001b[1;33m)\u001b[0m\u001b[1;33m\u001b[0m\u001b[1;33m\u001b[0m\u001b[0m\n\u001b[0m",
      "\u001b[1;31mIndexError\u001b[0m: list index out of range"
     ]
    }
   ],
   "source": [
    "motorcycles = [] \n",
    "print(motorcycles[-1])"
   ]
  }
 ],
 "metadata": {
  "kernelspec": {
   "display_name": "Python 3 (ipykernel)",
   "language": "python",
   "name": "python3"
  },
  "language_info": {
   "codemirror_mode": {
    "name": "ipython",
    "version": 3
   },
   "file_extension": ".py",
   "mimetype": "text/x-python",
   "name": "python",
   "nbconvert_exporter": "python",
   "pygments_lexer": "ipython3",
   "version": "3.9.5"
  }
 },
 "nbformat": 4,
 "nbformat_minor": 5
}

{
 "cells": [
  {
   "cell_type": "markdown",
   "id": "aec10129",
   "metadata": {},
   "source": [
    "# VARIABLES AND SIMPLE DATA TYPES"
   ]
  },
  {
   "cell_type": "markdown",
   "id": "2c11a905",
   "metadata": {},
   "source": [
    "## Variables\n",
    "---"
   ]
  },
  {
   "cell_type": "markdown",
   "id": "4ff2e352",
   "metadata": {},
   "source": [
    "### Nombrando y usando variables"
   ]
  },
  {
   "cell_type": "markdown",
   "id": "f95dd5f6",
   "metadata": {},
   "source": [
    "- Los nombres de variables pueden contener solo letras, números y guiones bajos.\n",
    "- Los nombres de variables pueden empezar con letras y guiones bajos, pero no con números. Puedes nombrar una variable `message_1` pero no `1_message`.\n",
    "- No se permiten espacios al nombrar una variable, pero se puede usar el guion bajo para separar palabras. Por ejemplo `greeting_message` funciona pero `greeting message` causaría un error.\n",
    "- Evita usar *Python keywords* y nombres de funciones al nombrar variables.\n",
    "- Los nombres deben ser cortos pero descriptivos.\n",
    "- Tener cuidado de no confundir `l` y `O` con `1` y `0`."
   ]
  },
  {
   "cell_type": "markdown",
   "id": "ba9d07d7",
   "metadata": {},
   "source": [
    "## Cadenas\n",
    "\n",
    "---"
   ]
  },
  {
   "cell_type": "markdown",
   "id": "fbd7e914",
   "metadata": {},
   "source": [
    "- Un *string* no es más que una serie de caracteres.\n",
    "- Pueden ir entre comillas simples o comillas dobles: `\"This is a string\"` y `'This is also a string'`. Esto permite usar apóstrofes y citas dentro de una *string: `\"The language 'Python' is named after Monty Python, not the snake.\"`.*"
   ]
  },
  {
   "cell_type": "markdown",
   "id": "d70cac41",
   "metadata": {},
   "source": [
    "### Changing Case"
   ]
  },
  {
   "cell_type": "markdown",
   "id": "96d94a54",
   "metadata": {},
   "source": [
    "- método `.title()`: Coloca mayúscula a las primeras letras de cada palabra.\n",
    "- método `.upper()`: Coloca todas las palabras en mayúsculas.\n",
    "- método `.lower()`: Coloca todas las palabras en minúsculas."
   ]
  },
  {
   "cell_type": "markdown",
   "id": "0ecd46c5",
   "metadata": {},
   "source": [
    "### Combinando y concatenando cadenas"
   ]
  },
  {
   "cell_type": "markdown",
   "id": "852a3275",
   "metadata": {},
   "source": [
    "- Utilizando el operador `+`"
   ]
  },
  {
   "cell_type": "code",
   "execution_count": 2,
   "id": "5d08c5fd",
   "metadata": {},
   "outputs": [
    {
     "name": "stdout",
     "output_type": "stream",
     "text": [
      "Hello, Ada Lovelace!\n"
     ]
    }
   ],
   "source": [
    "    first_name = \"ada\"\n",
    "    last_name = \"lovelace\"\n",
    "    full_name = first_name + \" \" + last_name\n",
    "    print(\"Hello, \" + full_name.title() + \"!\")"
   ]
  },
  {
   "cell_type": "markdown",
   "id": "e62a5e0d",
   "metadata": {},
   "source": [
    "### Añadir *Whitespace* a las cadenas"
   ]
  },
  {
   "cell_type": "markdown",
   "id": "054a3c78",
   "metadata": {},
   "source": [
    "- `\\t` para añadir tabulación\n",
    "- `\\n` para añadir una línea nueva\n",
    "- *Whitespace* se refiere a caracteres no imprimibles como espacios, tabulaciones y símbolos de fin de línea."
   ]
  },
  {
   "cell_type": "code",
   "execution_count": 3,
   "id": "d1ca7040",
   "metadata": {},
   "outputs": [
    {
     "name": "stdout",
     "output_type": "stream",
     "text": [
      "Languages:\n",
      "\tPython\n",
      "\tC\n",
      "\tJavaScript\n"
     ]
    }
   ],
   "source": [
    " print(\"Languages:\\n\\tPython\\n\\tC\\n\\tJavaScript\")"
   ]
  },
  {
   "cell_type": "markdown",
   "id": "85ba01a8",
   "metadata": {},
   "source": [
    "### Quitar espacios en blanco"
   ]
  },
  {
   "cell_type": "markdown",
   "id": "055001f1",
   "metadata": {},
   "source": [
    "- Para un programa `'python'` no es lo mismo que decir `' python'` o `'python '`.\n",
    "- Los métodos utilizados para eliminar espacios en blanco en una cadena son:\n",
    "    * El método `.rstrip()` elimina los espacios en blanco al final de una cadena.\n",
    "    * El método `.lstrip()` elimina los espacios en blanco al inicio de una cadena.\n",
    "    * El método `.strip()` elimina los espacios en blanco al inicio y al final de una cadena.\n",
    "- El valor de la variable se modifica sola momentáneamente.\n",
    "- Para guardar el valor se debería asignar a la misma varible el valor arrojado por el método.\n",
    "- Estos métodos son mayormente usados para limpiar la entrada del usuario antes de que sea almacenada en el programa."
   ]
  },
  {
   "cell_type": "code",
   "execution_count": 15,
   "id": "a330c69b",
   "metadata": {},
   "outputs": [
    {
     "data": {
      "text/plain": [
       "' python '"
      ]
     },
     "execution_count": 15,
     "metadata": {},
     "output_type": "execute_result"
    }
   ],
   "source": [
    "favorite_language = ' python '\n",
    "favorite_language"
   ]
  },
  {
   "cell_type": "code",
   "execution_count": 16,
   "id": "05046f3c",
   "metadata": {},
   "outputs": [
    {
     "data": {
      "text/plain": [
       "' python'"
      ]
     },
     "execution_count": 16,
     "metadata": {},
     "output_type": "execute_result"
    }
   ],
   "source": [
    "favorite_language.rstrip()"
   ]
  },
  {
   "cell_type": "code",
   "execution_count": 18,
   "id": "57fbac46",
   "metadata": {},
   "outputs": [
    {
     "data": {
      "text/plain": [
       "'python '"
      ]
     },
     "execution_count": 18,
     "metadata": {},
     "output_type": "execute_result"
    }
   ],
   "source": [
    "favorite_language.lstrip()"
   ]
  },
  {
   "cell_type": "code",
   "execution_count": 19,
   "id": "10eaf4fc",
   "metadata": {},
   "outputs": [
    {
     "data": {
      "text/plain": [
       "'python'"
      ]
     },
     "execution_count": 19,
     "metadata": {},
     "output_type": "execute_result"
    }
   ],
   "source": [
    "favorite_language.strip()"
   ]
  },
  {
   "cell_type": "code",
   "execution_count": 20,
   "id": "b3f3bfc7",
   "metadata": {},
   "outputs": [
    {
     "data": {
      "text/plain": [
       "' python '"
      ]
     },
     "execution_count": 20,
     "metadata": {},
     "output_type": "execute_result"
    }
   ],
   "source": [
    "favorite_language"
   ]
  },
  {
   "cell_type": "code",
   "execution_count": 23,
   "id": "3d73f558",
   "metadata": {},
   "outputs": [
    {
     "data": {
      "text/plain": [
       "'python'"
      ]
     },
     "execution_count": 23,
     "metadata": {},
     "output_type": "execute_result"
    }
   ],
   "source": [
    "favorite_language = favorite_language.strip()\n",
    "favorite_language"
   ]
  },
  {
   "cell_type": "markdown",
   "id": "c0b5c587",
   "metadata": {},
   "source": [
    "### Evitando errores de sintaxis con cadenas"
   ]
  },
  {
   "cell_type": "markdown",
   "id": "57833839",
   "metadata": {},
   "source": [
    "- Un error de sintaxis ocurre cuando Python no reconoce parte del programa como código Python válido.\n",
    "- Por ejemplo, si se utiliza apóstrofe dentro de comillas simples, se producirá un error de sintaxis.\n",
    "- Lo correcto sería utilizar apóstrofe dentro de comillas dobles."
   ]
  },
  {
   "cell_type": "code",
   "execution_count": 31,
   "id": "8fe01eb6",
   "metadata": {},
   "outputs": [
    {
     "ename": "SyntaxError",
     "evalue": "invalid syntax (Temp/ipykernel_5820/89058147.py, line 1)",
     "output_type": "error",
     "traceback": [
      "\u001b[1;36m  File \u001b[1;32m\"C:\\Users\\ferna\\AppData\\Local\\Temp/ipykernel_5820/89058147.py\"\u001b[1;36m, line \u001b[1;32m1\u001b[0m\n\u001b[1;33m    message = ('One of Python's strengths is its diverse community.')\u001b[0m\n\u001b[1;37m                              ^\u001b[0m\n\u001b[1;31mSyntaxError\u001b[0m\u001b[1;31m:\u001b[0m invalid syntax\n"
     ]
    }
   ],
   "source": [
    "message = ('One of Python's strengths is its diverse community.')\n",
    "print(message)"
   ]
  },
  {
   "cell_type": "code",
   "execution_count": 33,
   "id": "473653f7",
   "metadata": {},
   "outputs": [
    {
     "name": "stdout",
     "output_type": "stream",
     "text": [
      "One of Python's strengths is its diverse community.\n"
     ]
    }
   ],
   "source": [
    "message = (\"One of Python's strengths is its diverse community.\")\n",
    "print(message)"
   ]
  },
  {
   "cell_type": "markdown",
   "id": "4026ea46",
   "metadata": {},
   "source": [
    "## Números\n",
    "---"
   ]
  },
  {
   "cell_type": "markdown",
   "id": "47c5d05e",
   "metadata": {},
   "source": [
    "- Son usados muy a menudo en programación para:\n",
    "    * Mantener la puntuación en juegos\n",
    "    * Representar datos en visualizaciones\n",
    "    * Almacenar información en aplicaciones web"
   ]
  },
  {
   "cell_type": "markdown",
   "id": "d2d44641",
   "metadata": {},
   "source": [
    "### Integers - Enteros"
   ]
  },
  {
   "cell_type": "markdown",
   "id": "4caaaa6d",
   "metadata": {},
   "source": [
    "- Se pueden:\n",
    "    * sumar `+` \n",
    "    * restar `-`\n",
    "    * multiplicar `*`\n",
    "    * dividir `/`\n",
    "    * elevar a otro número `**`\n",
    "- Los espacios no tienen ningún efecto en la operación, pero sirven para detectar más rápido las operaciones.\n",
    "- Se pueden colocar paréntesis para modificar el orden de operaciones."
   ]
  },
  {
   "cell_type": "code",
   "execution_count": 34,
   "id": "1f170fc6",
   "metadata": {},
   "outputs": [
    {
     "data": {
      "text/plain": [
       "5"
      ]
     },
     "execution_count": 34,
     "metadata": {},
     "output_type": "execute_result"
    }
   ],
   "source": [
    "2 + 3"
   ]
  },
  {
   "cell_type": "code",
   "execution_count": 35,
   "id": "3d95bf27",
   "metadata": {},
   "outputs": [
    {
     "data": {
      "text/plain": [
       "28"
      ]
     },
     "execution_count": 35,
     "metadata": {},
     "output_type": "execute_result"
    }
   ],
   "source": [
    "32 - 4"
   ]
  },
  {
   "cell_type": "code",
   "execution_count": 36,
   "id": "7e54fad4",
   "metadata": {},
   "outputs": [
    {
     "data": {
      "text/plain": [
       "92"
      ]
     },
     "execution_count": 36,
     "metadata": {},
     "output_type": "execute_result"
    }
   ],
   "source": [
    "23 * 4 "
   ]
  },
  {
   "cell_type": "code",
   "execution_count": 37,
   "id": "2d068a38",
   "metadata": {},
   "outputs": [
    {
     "data": {
      "text/plain": [
       "5.0"
      ]
     },
     "execution_count": 37,
     "metadata": {},
     "output_type": "execute_result"
    }
   ],
   "source": [
    "35 / 7"
   ]
  },
  {
   "cell_type": "code",
   "execution_count": 39,
   "id": "c75cc075",
   "metadata": {},
   "outputs": [
    {
     "data": {
      "text/plain": [
       "8"
      ]
     },
     "execution_count": 39,
     "metadata": {},
     "output_type": "execute_result"
    }
   ],
   "source": [
    "2 ** 3"
   ]
  },
  {
   "cell_type": "code",
   "execution_count": 40,
   "id": "5e6d6c5b",
   "metadata": {},
   "outputs": [
    {
     "data": {
      "text/plain": [
       "20"
      ]
     },
     "execution_count": 40,
     "metadata": {},
     "output_type": "execute_result"
    }
   ],
   "source": [
    "(2 + 3) * 4"
   ]
  },
  {
   "cell_type": "markdown",
   "id": "0988f038",
   "metadata": {},
   "source": [
    "### Floats - Flotantes"
   ]
  },
  {
   "cell_type": "markdown",
   "id": "4842aef2",
   "metadata": {},
   "source": [
    "- Python llama cualquier número decimal como flotante.\n",
    "- Esto se debe a que el punto decimal puede aparecer en cualquier posición en un número.\n",
    "- Se pueden utilizar sin preocuparse del comportamiento, por ahora.\n",
    "- En algunos casos, Python puede arrojar un número arbitrario de cifras decimales en una operación simple.\n",
    "- En la parte II se aprenderá a manejar con estos decimales extra."
   ]
  },
  {
   "cell_type": "code",
   "execution_count": 41,
   "id": "ae41b51e",
   "metadata": {},
   "outputs": [
    {
     "data": {
      "text/plain": [
       "1.1"
      ]
     },
     "execution_count": 41,
     "metadata": {},
     "output_type": "execute_result"
    }
   ],
   "source": [
    "0.4 + 0.7"
   ]
  },
  {
   "cell_type": "code",
   "execution_count": 42,
   "id": "77e84f5e",
   "metadata": {},
   "outputs": [
    {
     "data": {
      "text/plain": [
       "0.22000000000000003"
      ]
     },
     "execution_count": 42,
     "metadata": {},
     "output_type": "execute_result"
    }
   ],
   "source": [
    "0.54 - 0.32"
   ]
  },
  {
   "cell_type": "code",
   "execution_count": 45,
   "id": "a02aab06",
   "metadata": {},
   "outputs": [
    {
     "data": {
      "text/plain": [
       "0.020000000000000004"
      ]
     },
     "execution_count": 45,
     "metadata": {},
     "output_type": "execute_result"
    }
   ],
   "source": [
    "0.1 * 0.2"
   ]
  },
  {
   "cell_type": "code",
   "execution_count": 46,
   "id": "ab5537af",
   "metadata": {},
   "outputs": [
    {
     "data": {
      "text/plain": [
       "8.0"
      ]
     },
     "execution_count": 46,
     "metadata": {},
     "output_type": "execute_result"
    }
   ],
   "source": [
    "4 / 0.5"
   ]
  },
  {
   "cell_type": "code",
   "execution_count": 47,
   "id": "cea5d9ca",
   "metadata": {},
   "outputs": [
    {
     "data": {
      "text/plain": [
       "1.5518455739153598"
      ]
     },
     "execution_count": 47,
     "metadata": {},
     "output_type": "execute_result"
    }
   ],
   "source": [
    "3 ** 0.4"
   ]
  },
  {
   "cell_type": "markdown",
   "id": "65454ae6",
   "metadata": {},
   "source": [
    "### Evitando errores de tipeo con la función str()"
   ]
  },
  {
   "cell_type": "markdown",
   "id": "5aaaba4c",
   "metadata": {},
   "source": [
    "- Los errores de tipeo ocurren cuando Python no reconoce el tipo de dato que se está usando.\n",
    "- Por ejemplo, si se quieren colocar variables numéricas dentro de una cadena de texto, se debe usar la función `str()` para que Python pueda reconocer que se quiere convertir la variable numérica a texto, sin mostrar error."
   ]
  },
  {
   "cell_type": "code",
   "execution_count": 50,
   "id": "33a91fca",
   "metadata": {},
   "outputs": [
    {
     "ename": "TypeError",
     "evalue": "can only concatenate str (not \"int\") to str",
     "output_type": "error",
     "traceback": [
      "\u001b[1;31m---------------------------------------------------------------------------\u001b[0m",
      "\u001b[1;31mTypeError\u001b[0m                                 Traceback (most recent call last)",
      "\u001b[1;32m~\\AppData\\Local\\Temp/ipykernel_5820/1178953136.py\u001b[0m in \u001b[0;36m<module>\u001b[1;34m\u001b[0m\n\u001b[0;32m      1\u001b[0m \u001b[0mage\u001b[0m \u001b[1;33m=\u001b[0m \u001b[1;36m23\u001b[0m\u001b[1;33m\u001b[0m\u001b[1;33m\u001b[0m\u001b[0m\n\u001b[1;32m----> 2\u001b[1;33m \u001b[0mmessage\u001b[0m \u001b[1;33m=\u001b[0m \u001b[1;34m\"Happy \"\u001b[0m \u001b[1;33m+\u001b[0m \u001b[0mage\u001b[0m \u001b[1;33m+\u001b[0m \u001b[1;34m\"rd Birthday\"\u001b[0m\u001b[1;33m\u001b[0m\u001b[1;33m\u001b[0m\u001b[0m\n\u001b[0m\u001b[0;32m      3\u001b[0m \u001b[0mprint\u001b[0m\u001b[1;33m(\u001b[0m\u001b[0mmessage\u001b[0m\u001b[1;33m)\u001b[0m\u001b[1;33m\u001b[0m\u001b[1;33m\u001b[0m\u001b[0m\n",
      "\u001b[1;31mTypeError\u001b[0m: can only concatenate str (not \"int\") to str"
     ]
    }
   ],
   "source": [
    "age = 23\n",
    "message = \"Happy \" + age + \"rd Birthday\"\n",
    "print(message)"
   ]
  },
  {
   "cell_type": "code",
   "execution_count": 51,
   "id": "3d6a32aa",
   "metadata": {},
   "outputs": [
    {
     "name": "stdout",
     "output_type": "stream",
     "text": [
      "Happy 23rd Birthday\n"
     ]
    }
   ],
   "source": [
    "message = \"Happy \" + str(age) + \"rd Birthday\"\n",
    "print(message)"
   ]
  },
  {
   "cell_type": "markdown",
   "id": "95e49f7a",
   "metadata": {},
   "source": [
    "## Comentarios\n",
    "---"
   ]
  },
  {
   "cell_type": "markdown",
   "id": "c9c83481",
   "metadata": {},
   "source": [
    "- Permiten agregar notas que describan lo que se está haciendo en el programa.\n",
    "- En Python se pueden indicar usando `#`. Todo lo que siga después será ignorado por el intérprete."
   ]
  },
  {
   "cell_type": "code",
   "execution_count": 53,
   "id": "6a12150f",
   "metadata": {},
   "outputs": [
    {
     "name": "stdout",
     "output_type": "stream",
     "text": [
      "Hello Python people!\n"
     ]
    }
   ],
   "source": [
    "# Say hello to everyone.\n",
    "print(\"Hello Python people!\")"
   ]
  },
  {
   "cell_type": "markdown",
   "id": "c9a4b9ef",
   "metadata": {},
   "source": [
    "- Los comentarios son importantes cuando se trabaja en grupos y escribir buenos comentarios facilitará el trabajo.\n",
    "- Si se necesita saber otras cosas sobre tu código cuando lo estás escribiendo, podrías escribirlo como un comentario, así cada vez que vuelvas a leer puedas entender lo que el programa está haciendo."
   ]
  },
  {
   "cell_type": "markdown",
   "id": "ba427b34",
   "metadata": {},
   "source": [
    "## The Zen of Python"
   ]
  },
  {
   "cell_type": "markdown",
   "id": "d197c48a",
   "metadata": {},
   "source": [
    "- Es la filosofía de Python escrita por la comunidad de programadores de Python."
   ]
  },
  {
   "cell_type": "code",
   "execution_count": 1,
   "id": "0585ce02",
   "metadata": {},
   "outputs": [
    {
     "name": "stdout",
     "output_type": "stream",
     "text": [
      "The Zen of Python, by Tim Peters\n",
      "\n",
      "Beautiful is better than ugly.\n",
      "Explicit is better than implicit.\n",
      "Simple is better than complex.\n",
      "Complex is better than complicated.\n",
      "Flat is better than nested.\n",
      "Sparse is better than dense.\n",
      "Readability counts.\n",
      "Special cases aren't special enough to break the rules.\n",
      "Although practicality beats purity.\n",
      "Errors should never pass silently.\n",
      "Unless explicitly silenced.\n",
      "In the face of ambiguity, refuse the temptation to guess.\n",
      "There should be one-- and preferably only one --obvious way to do it.\n",
      "Although that way may not be obvious at first unless you're Dutch.\n",
      "Now is better than never.\n",
      "Although never is often better than *right* now.\n",
      "If the implementation is hard to explain, it's a bad idea.\n",
      "If the implementation is easy to explain, it may be a good idea.\n",
      "Namespaces are one honking great idea -- let's do more of those!\n"
     ]
    }
   ],
   "source": [
    "import this"
   ]
  },
  {
   "cell_type": "markdown",
   "id": "3bd08ad4",
   "metadata": {},
   "source": [
    "- Si tienes una solución simple y una compleja, utiliza la simple.\n",
    "- Usa la solución más simple que funcione.\n",
    "- Escribe comentarios informativos.\n",
    "- No trates de escrbir código perfecto, escribe código que funcione y luego decidirás si se mejorá dicho código."
   ]
  }
 ],
 "metadata": {
  "kernelspec": {
   "display_name": "Python 3 (ipykernel)",
   "language": "python",
   "name": "python3"
  },
  "language_info": {
   "codemirror_mode": {
    "name": "ipython",
    "version": 3
   },
   "file_extension": ".py",
   "mimetype": "text/x-python",
   "name": "python",
   "nbconvert_exporter": "python",
   "pygments_lexer": "ipython3",
   "version": "3.9.5"
  }
 },
 "nbformat": 4,
 "nbformat_minor": 5
}

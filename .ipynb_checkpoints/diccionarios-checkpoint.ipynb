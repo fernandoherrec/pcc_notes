{
 "cells": [
  {
   "cell_type": "markdown",
   "id": "7038a6a4",
   "metadata": {},
   "source": [
    "# DICCIONARIOS"
   ]
  },
  {
   "cell_type": "markdown",
   "id": "8a284885",
   "metadata": {},
   "source": [
    "## Un diccionario simple\n",
    "---"
   ]
  },
  {
   "cell_type": "code",
   "execution_count": 2,
   "id": "20c0df0b",
   "metadata": {},
   "outputs": [
    {
     "name": "stdout",
     "output_type": "stream",
     "text": [
      "green\n",
      "5\n"
     ]
    }
   ],
   "source": [
    "alien_0 = {'color': 'green', 'points': 5}\n",
    "\n",
    "print(alien_0['color'])\n",
    "print(alien_0['points'])"
   ]
  },
  {
   "cell_type": "markdown",
   "id": "199cc1be",
   "metadata": {},
   "source": [
    "## Trabajando con diccionarios\n",
    "---"
   ]
  },
  {
   "cell_type": "markdown",
   "id": "e6375616",
   "metadata": {},
   "source": [
    "- Un **diccionario** en Python es una colección de parejas clave-valor (*key-value pairs*).\n",
    "- Cada clave (*key*) está conectada a un valor, y puedes usar la clave para acceder al valor asociado con dicha clave.\n",
    "- El valor de una clave puede ser:\n",
    "    * un número,\n",
    "    * una cadena,\n",
    "    * una lista,\n",
    "    * o incluso otro diccionario.\n",
    "- En Python, un diccionario está envuelto entre llaves `{}`, con una serie de parejas clave-valor dentro de las llaves.\n",
    "- Una ***key-value pair*** es un conjunto de valores asociados el uno al otro.\n",
    "- Puedes almacenar cuantas parejas clave-valor quieras dentro de un diccionario"
   ]
  },
  {
   "cell_type": "markdown",
   "id": "f3e9679a",
   "metadata": {},
   "source": [
    "### Accediendo a los valores en un diccionario"
   ]
  },
  {
   "cell_type": "markdown",
   "id": "d1394d1b",
   "metadata": {},
   "source": [
    "- Para acceder al valor asociado a una clave, damos el nombre del diccionario y luego, colocamos la clave entre corchetes."
   ]
  },
  {
   "cell_type": "code",
   "execution_count": 3,
   "id": "c4ebd2e2",
   "metadata": {},
   "outputs": [
    {
     "name": "stdout",
     "output_type": "stream",
     "text": [
      "green\n"
     ]
    }
   ],
   "source": [
    "alien_0 = {'color': 'green'}\n",
    "print(alien_0['color'])"
   ]
  },
  {
   "cell_type": "code",
   "execution_count": 6,
   "id": "e781ea8b",
   "metadata": {},
   "outputs": [
    {
     "name": "stdout",
     "output_type": "stream",
     "text": [
      "You just earned 5 points!\n"
     ]
    }
   ],
   "source": [
    "alien_0 = {'color': 'green', 'points': 5}\n",
    "\n",
    "new_points = alien_0['points']\n",
    "print(\"You just earned \" + str(new_points) + \" points!\")"
   ]
  },
  {
   "cell_type": "markdown",
   "id": "c2b4de98",
   "metadata": {},
   "source": [
    "### Añadiendo nuevas parejas clave-valor"
   ]
  },
  {
   "cell_type": "markdown",
   "id": "a2f76ec0",
   "metadata": {},
   "source": [
    "- Los diccionarios son estructuras **dinámicas** y puedes añadir parejas clave-valor al diccionario en cualquier momento.\n",
    "- Para ello, deberías dar el nombre del diccionario seguido de la clave entre corchetes y asignarle el nuevo valor.\n",
    "- A Python no le importa el orden en el que almacenes cada pareja, sino la conección entre cada clave y su valor asignado."
   ]
  },
  {
   "cell_type": "code",
   "execution_count": 31,
   "id": "738d70d1",
   "metadata": {},
   "outputs": [
    {
     "name": "stdout",
     "output_type": "stream",
     "text": [
      "{'color': 'green', 'points': 5}\n",
      "{'color': 'green', 'points': 5, 'x position': 0, 'y position': 25}\n"
     ]
    }
   ],
   "source": [
    "alien_0 = {'color': 'green', 'points': 5}\n",
    "print(alien_0)\n",
    "\n",
    "alien_0['x position'] = 0\n",
    "alien_0['y position'] = 25\n",
    "print(alien_0)"
   ]
  },
  {
   "cell_type": "markdown",
   "id": "e8bcabdb",
   "metadata": {},
   "source": [
    "### Empezando con un diccionario vacío"
   ]
  },
  {
   "cell_type": "markdown",
   "id": "d64fe139",
   "metadata": {},
   "source": [
    "- Muchas veces es conveniente o, incluso, necesario empezar con un diccionario vacío y luego ir añadiéndole elementos."
   ]
  },
  {
   "cell_type": "code",
   "execution_count": 32,
   "id": "4bb5aadc",
   "metadata": {},
   "outputs": [
    {
     "name": "stdout",
     "output_type": "stream",
     "text": [
      "{'color': 'green', 'points': 5}\n"
     ]
    }
   ],
   "source": [
    "alien_0 = {}\n",
    "\n",
    "alien_0['color'] = 'green'\n",
    "alien_0['points'] = 5\n",
    "\n",
    "print(alien_0)"
   ]
  },
  {
   "cell_type": "markdown",
   "id": "a848cabf",
   "metadata": {},
   "source": [
    "### Modificando valores en un diccionario"
   ]
  },
  {
   "cell_type": "markdown",
   "id": "0cc1f3d9",
   "metadata": {},
   "source": [
    "- Para modificar valores en un diccionario, primero da el nombre del diccionario seguido de la clave entre corchetes y luego asígnale el nuevo valor que quieres asociar con dicha clave."
   ]
  },
  {
   "cell_type": "code",
   "execution_count": 33,
   "id": "2307e350",
   "metadata": {},
   "outputs": [
    {
     "name": "stdout",
     "output_type": "stream",
     "text": [
      "The alien is green.\n",
      "The alien is yellow.\n"
     ]
    }
   ],
   "source": [
    "alien_0 = {'color': 'green'}\n",
    "print(\"The alien is \" + alien_0['color'] + \".\")\n",
    "\n",
    "alien_0['color'] = 'yellow'\n",
    "print(\"The alien is \" + alien_0['color'] + \".\")"
   ]
  },
  {
   "cell_type": "code",
   "execution_count": 34,
   "id": "cf3bb0f3",
   "metadata": {},
   "outputs": [
    {
     "name": "stdout",
     "output_type": "stream",
     "text": [
      "Original x-position: 0\n",
      "New x-position: 2\n"
     ]
    }
   ],
   "source": [
    "alien_0 = {'x_position': 0, 'y_position': 25, 'speed': 'medium'}\n",
    "print(\"Original x-position: \" + str(alien_0['x_position']))\n",
    "\n",
    "# Mueve el alien hacia la derecha\n",
    "# Determina qué tan lejos moverlo basado en su velocidad actual\n",
    "if alien_0['speed'] == 'slow':\n",
    "    x_increment = 1\n",
    "elif alien_0['speed'] == 'medium':\n",
    "    x_increment = 2\n",
    "else: \n",
    "    # Este debe ser un alien muy rápido\n",
    "    x_increment = 3\n",
    "    \n",
    "# La nueva posición es la antigua posición más el incremento\n",
    "alien_0['x_position'] = alien_0['x_position'] + x_increment\n",
    "\n",
    "print(\"New x-position: \" + str(alien_0['x_position']))\n"
   ]
  },
  {
   "cell_type": "markdown",
   "id": "bbe4c015",
   "metadata": {},
   "source": [
    "### Removiendo parejas clave-valor"
   ]
  },
  {
   "cell_type": "markdown",
   "id": "c0077fe9",
   "metadata": {},
   "source": [
    "- Cuando ya no necesites un pedazo de información que está almacenado en un diccionario, pueden usar la declaración `del` para remover por completo una pareja clave-valor.\n",
    "- La sentencia `del` necesita el nombre del diccionario y la clave que quieres remover.\n",
    "- **Recuerda que la pareja clave-valor se elimina PERMANENTEMENTE.**"
   ]
  },
  {
   "cell_type": "code",
   "execution_count": 35,
   "id": "ed876cde",
   "metadata": {},
   "outputs": [
    {
     "name": "stdout",
     "output_type": "stream",
     "text": [
      "{'color': 'green', 'points': 5}\n",
      "{'color': 'green'}\n"
     ]
    }
   ],
   "source": [
    "alien_0 = {'color': 'green', 'points': 5}\n",
    "print(alien_0)\n",
    "\n",
    "del alien_0['points']\n",
    "print(alien_0)"
   ]
  },
  {
   "cell_type": "markdown",
   "id": "445fe996",
   "metadata": {},
   "source": [
    "### Un diccionario de objetos similares"
   ]
  },
  {
   "cell_type": "markdown",
   "id": "66756af6",
   "metadata": {},
   "source": [
    "- Son buenas prácticas:\n",
    "    * Colocar cada una de las parejas en diferente línea.\n",
    "    * Colocar una coma al final de la última pareja.\n",
    "- El ejemplo de abajo también muestra como colocar una declaración `print` en varias líneas."
   ]
  },
  {
   "cell_type": "code",
   "execution_count": 38,
   "id": "4cce5ca1",
   "metadata": {},
   "outputs": [
    {
     "name": "stdout",
     "output_type": "stream",
     "text": [
      "Sarah's favorite_language is C.\n"
     ]
    }
   ],
   "source": [
    "favorite_languages = {\n",
    "    'jen': 'python',\n",
    "    'sarah': 'c',\n",
    "    'edward': 'ruby',\n",
    "    'phil': 'python',\n",
    "    }\n",
    "print(\"Sarah's favorite_language is \" +\n",
    "     favorite_languages['sarah'].title() +\n",
    "     \".\")"
   ]
  },
  {
   "cell_type": "markdown",
   "id": "778d4bbb",
   "metadata": {},
   "source": [
    "## Recorriendo un diccionario\n",
    "---"
   ]
  },
  {
   "cell_type": "markdown",
   "id": "57744346",
   "metadata": {},
   "source": [
    "### Recorriendo todas las *key-value pairs*"
   ]
  },
  {
   "cell_type": "markdown",
   "id": "b5a14ae4",
   "metadata": {},
   "source": [
    "- Para hacer un ciclo `for` para un diccionario, debes crear nombres para dos variables que almacenarán la clave y el valor de cada pareja, y utilizar el método `.items()`.\n",
    "- Puedes elegir cualquier nombre para las variables.\n",
    "- Las parejas no serán mostradas en el orden en el que están almacenadas.\n",
    "- Recuerda que a Python no le importa el orden de las parejas, sino la conexión entre la clave y el valor de cada pareja."
   ]
  },
  {
   "cell_type": "code",
   "execution_count": 39,
   "id": "42a740ef",
   "metadata": {},
   "outputs": [
    {
     "name": "stdout",
     "output_type": "stream",
     "text": [
      "\n",
      "Key: username\n",
      "\n",
      "Value: efermi\n",
      "\n",
      "Key: first\n",
      "\n",
      "Value: enrico\n",
      "\n",
      "Key: last\n",
      "\n",
      "Value: fermi\n"
     ]
    }
   ],
   "source": [
    "user_0 = {\n",
    "    'username': 'efermi',\n",
    "    'first': 'enrico',\n",
    "    'last': 'fermi',\n",
    " }\n",
    "for key, value in user_0.items():\n",
    "    print(\"\\nKey: \" + key)\n",
    "    print(\"\\nValue: \" + value)"
   ]
  },
  {
   "cell_type": "code",
   "execution_count": 40,
   "id": "10def619",
   "metadata": {},
   "outputs": [
    {
     "name": "stdout",
     "output_type": "stream",
     "text": [
      "Jen's favorite language is Python.\n",
      "Sarah's favorite language is C.\n",
      "Edward's favorite language is Ruby.\n",
      "Phil's favorite language is Python.\n"
     ]
    }
   ],
   "source": [
    "favorite_languages = {\n",
    "    'jen': 'python',\n",
    "    'sarah': 'c',\n",
    "    'edward': 'ruby',\n",
    "    'phil': 'python',\n",
    "    }\n",
    "for name, language in favorite_languages.items():\n",
    "    print(name.title() + \"'s favorite language is \" +\n",
    "         language.title() + \".\")"
   ]
  },
  {
   "cell_type": "markdown",
   "id": "466dbc31",
   "metadata": {},
   "source": [
    "### Recorriendo todas las *keys* en un diccionario"
   ]
  },
  {
   "cell_type": "markdown",
   "id": "a92f280b",
   "metadata": {},
   "source": [
    "- El método `.keys()` es muy útil cuando no necesitas trabajar con todos los valores de un diccionario."
   ]
  },
  {
   "cell_type": "code",
   "execution_count": 41,
   "id": "041f83ba",
   "metadata": {},
   "outputs": [
    {
     "name": "stdout",
     "output_type": "stream",
     "text": [
      "Jen\n",
      "Sarah\n",
      "Edward\n",
      "Phil\n"
     ]
    }
   ],
   "source": [
    "favorite_languages = {\n",
    "    'jen': 'python',\n",
    "    'sarah': 'c',\n",
    "    'edward': 'ruby',\n",
    "    'phil': 'python',\n",
    "    }\n",
    "for name in favorite_languages.keys():\n",
    "    print(name.title())"
   ]
  },
  {
   "cell_type": "markdown",
   "id": "ba914b53",
   "metadata": {},
   "source": [
    "- Recorrer las claves es, en realidad, el comportamiento por defecto cuando se recorre un diccionario. Por eso, se podría haber escrito `for name in favorite_languages:` en lugar de `for name in favorite_languages:` y el resultado seguiría siendo el mismo."
   ]
  },
  {
   "cell_type": "code",
   "execution_count": 45,
   "id": "64c6b177",
   "metadata": {},
   "outputs": [
    {
     "name": "stdout",
     "output_type": "stream",
     "text": [
      "Jen\n",
      "Sarah\n",
      "  Hi Sarah, I see your favorite language is C!\n",
      "Edward\n",
      "Phil\n",
      "  Hi Phil, I see your favorite language is Python!\n"
     ]
    }
   ],
   "source": [
    "favorite_languages = {\n",
    "    'jen': 'python',\n",
    "    'sarah': 'c',\n",
    "    'edward': 'ruby',\n",
    "    'phil': 'python',\n",
    "    }\n",
    "\n",
    "friends = ['phil', 'sarah']\n",
    "for name in favorite_languages.keys():\n",
    "    print(name.title())\n",
    "    \n",
    "    if name in friends:\n",
    "        print(\"  Hi \" + name.title() + \n",
    "             \", I see your favorite language is \" + \n",
    "             favorite_languages[name].title() + \"!\")"
   ]
  },
  {
   "cell_type": "code",
   "execution_count": 46,
   "id": "1c3e86d9",
   "metadata": {},
   "outputs": [
    {
     "name": "stdout",
     "output_type": "stream",
     "text": [
      "Erin, please take our poll!\n"
     ]
    }
   ],
   "source": [
    "favorite_languages = {\n",
    "    'jen': 'python',\n",
    "    'sarah': 'c',\n",
    "    'edward': 'ruby',\n",
    "    'phil': 'python',\n",
    "    }\n",
    "if 'erin' not in favorite_languages.keys():\n",
    "    print(\"Erin, please take our poll!\")"
   ]
  },
  {
   "cell_type": "markdown",
   "id": "437816a3",
   "metadata": {},
   "source": [
    "### Recorriendo en orden todas las *keys* en un diccionario"
   ]
  },
  {
   "cell_type": "markdown",
   "id": "8efbf7d7",
   "metadata": {},
   "source": [
    "- Para eso se puede hacer uso de la función `sorted()`."
   ]
  },
  {
   "cell_type": "code",
   "execution_count": 47,
   "id": "3349bc15",
   "metadata": {},
   "outputs": [
    {
     "name": "stdout",
     "output_type": "stream",
     "text": [
      "Edward, thank you for taking the poll.\n",
      "Jen, thank you for taking the poll.\n",
      "Phil, thank you for taking the poll.\n",
      "Sarah, thank you for taking the poll.\n"
     ]
    }
   ],
   "source": [
    "favorite_languages = {\n",
    "    'jen': 'python',\n",
    "    'sarah': 'c',\n",
    "    'edward': 'ruby',\n",
    "    'phil': 'python',\n",
    "    }\n",
    "for name in sorted(favorite_languages.keys()):\n",
    "    print(name.title() + \", thank you for taking the poll.\")"
   ]
  },
  {
   "cell_type": "markdown",
   "id": "e86e298f",
   "metadata": {},
   "source": [
    "### Recorriendo todos los *values* en un diccionario"
   ]
  },
  {
   "cell_type": "markdown",
   "id": "1c6baee6",
   "metadata": {},
   "source": [
    "- El método `.values()` retorna una lista de los valores sin llaves.\n",
    "- Para no ver valores repetidos podemos usar la función `set()`."
   ]
  },
  {
   "cell_type": "code",
   "execution_count": 49,
   "id": "1033bc9d",
   "metadata": {},
   "outputs": [
    {
     "name": "stdout",
     "output_type": "stream",
     "text": [
      "The following languages have been mentioned:\n",
      "Python\n",
      "C\n",
      "Ruby\n"
     ]
    }
   ],
   "source": [
    "favorite_languages = {\n",
    "    'jen': 'python',\n",
    "    'sarah': 'c',\n",
    "    'edward': 'ruby',\n",
    "    'phil': 'python',\n",
    "    }\n",
    "\n",
    "print(\"The following languages have been mentioned:\")\n",
    "for language in set(favorite_languages.values()):\n",
    "    print(language.title())"
   ]
  },
  {
   "cell_type": "markdown",
   "id": "6f4aab98",
   "metadata": {},
   "source": [
    "## *Nesting*\n",
    "---"
   ]
  },
  {
   "cell_type": "markdown",
   "id": "ea082043",
   "metadata": {},
   "source": [
    "- A veces querrás almacenar un conjunto de diccionarios en una lista o una lista de items como valor en un diccionario. A eso se le llama ***nesting***."
   ]
  },
  {
   "cell_type": "markdown",
   "id": "5b1992b2",
   "metadata": {},
   "source": [
    "### Una lista de diccionarios"
   ]
  },
  {
   "cell_type": "code",
   "execution_count": 50,
   "id": "cb212c35",
   "metadata": {},
   "outputs": [
    {
     "name": "stdout",
     "output_type": "stream",
     "text": [
      "{'color': 'green', 'points': 5}\n",
      "{'color': 'yellow', 'points': 10}\n",
      "{'color': 'red', 'points': 15}\n"
     ]
    }
   ],
   "source": [
    "alien_0 = {'color': 'green', 'points': 5}\n",
    "alien_1 = {'color': 'yellow', 'points': 10}\n",
    "alien_2 = {'color': 'red', 'points': 15}\n",
    "\n",
    "aliens = [alien_0, alien_1, alien_2]\n",
    "\n",
    "for alien in aliens:\n",
    "    print(alien)"
   ]
  },
  {
   "cell_type": "code",
   "execution_count": 56,
   "id": "fe3e8516",
   "metadata": {
    "scrolled": true
   },
   "outputs": [
    {
     "name": "stdout",
     "output_type": "stream",
     "text": [
      "{'color': 'red', 'points': 15, 'speed': 'fast', 'ponits': 10}\n",
      "{'color': 'red', 'points': 15, 'speed': 'fast', 'ponits': 10}\n",
      "{'color': 'red', 'points': 15, 'speed': 'fast', 'ponits': 10}\n",
      "{'color': 'green', 'points': 5, 'speed': 'slow'}\n",
      "{'color': 'green', 'points': 5, 'speed': 'slow'}\n",
      "...\n",
      "Total number of aliens: 30\n"
     ]
    }
   ],
   "source": [
    "# Un ejemplo más realista involucraría más de 3 aliens\n",
    "# Make an empty list for storing aliens.\n",
    "aliens = []\n",
    "\n",
    "# Make 30 green aliens.\n",
    "for alien_number in range(30):\n",
    "    new_alien = {'color': 'green', 'points': 5, 'speed': 'slow'}\n",
    "    aliens.append(new_alien)\n",
    "    \n",
    "    for alien in aliens[0:3]:\n",
    "        if alien['color'] == 'green':\n",
    "            alien['color'] = 'yellow'\n",
    "            alien['speed'] = 'medium'\n",
    "            alien['ponits'] = 10\n",
    "        elif alien['color'] == 'yellow':\n",
    "            alien['color'] = 'red'\n",
    "            alien['speed'] = 'fast'\n",
    "            alien['points'] = 15\n",
    "\n",
    "# Show the first 5 aliens\n",
    "for alien in aliens[:5]:\n",
    "    print(alien)\n",
    "print(\"...\")\n",
    "\n",
    "# Show how many aliens have been created\n",
    "print(\"Total number of aliens: \" + str(len(aliens)))"
   ]
  },
  {
   "cell_type": "markdown",
   "id": "1bf1399b",
   "metadata": {},
   "source": [
    "### Una lista en un diccionario"
   ]
  },
  {
   "cell_type": "code",
   "execution_count": null,
   "id": "765c80c7",
   "metadata": {},
   "outputs": [],
   "source": []
  },
  {
   "cell_type": "code",
   "execution_count": null,
   "id": "4658b99e",
   "metadata": {},
   "outputs": [],
   "source": []
  },
  {
   "cell_type": "code",
   "execution_count": null,
   "id": "dc1990e7",
   "metadata": {},
   "outputs": [],
   "source": []
  }
 ],
 "metadata": {
  "kernelspec": {
   "display_name": "Python 3 (ipykernel)",
   "language": "python",
   "name": "python3"
  },
  "language_info": {
   "codemirror_mode": {
    "name": "ipython",
    "version": 3
   },
   "file_extension": ".py",
   "mimetype": "text/x-python",
   "name": "python",
   "nbconvert_exporter": "python",
   "pygments_lexer": "ipython3",
   "version": "3.9.5"
  }
 },
 "nbformat": 4,
 "nbformat_minor": 5
}

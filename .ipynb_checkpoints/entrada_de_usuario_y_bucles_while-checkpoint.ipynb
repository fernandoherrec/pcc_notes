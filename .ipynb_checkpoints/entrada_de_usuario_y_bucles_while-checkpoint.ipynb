{
 "cells": [
  {
   "cell_type": "markdown",
   "id": "6a9431d1",
   "metadata": {},
   "source": [
    "# ENTRADA DE USUARIO Y BUCLES WHILE"
   ]
  },
  {
   "cell_type": "markdown",
   "id": "12424441",
   "metadata": {},
   "source": [
    "- Cuando el programa necesite un nombre, podrás pedírselo al usuario. Cuando el programa necesite una lista de nombres, podrás pedírselo al usuario. Para eso harás uso de la función `input()`."
   ]
  },
  {
   "cell_type": "markdown",
   "id": "bf3cec80",
   "metadata": {},
   "source": [
    "## ¿Cómo funciona la función `input()`?\n",
    "---"
   ]
  },
  {
   "cell_type": "markdown",
   "id": "21f16d70",
   "metadata": {},
   "source": [
    "- La función `input()` pausa el programa hasta que el usuario ingrese algo de texto.\n",
    "- Cuando Python recibe la entrada, la almacena en una variable."
   ]
  },
  {
   "cell_type": "code",
   "execution_count": 3,
   "id": "33fec596",
   "metadata": {
    "scrolled": true
   },
   "outputs": [
    {
     "name": "stdout",
     "output_type": "stream",
     "text": [
      "Tell me something, and I will repeat it back to you: adsa\n",
      "adsa\n"
     ]
    }
   ],
   "source": [
    "message = input(\"Tell me something, and I will repeat it back to you: \")\n",
    "print(message)"
   ]
  },
  {
   "cell_type": "code",
   "execution_count": null,
   "id": "01380f91",
   "metadata": {},
   "outputs": [],
   "source": []
  }
 ],
 "metadata": {
  "kernelspec": {
   "display_name": "Python 3 (ipykernel)",
   "language": "python",
   "name": "python3"
  },
  "language_info": {
   "codemirror_mode": {
    "name": "ipython",
    "version": 3
   },
   "file_extension": ".py",
   "mimetype": "text/x-python",
   "name": "python",
   "nbconvert_exporter": "python",
   "pygments_lexer": "ipython3",
   "version": "3.9.5"
  }
 },
 "nbformat": 4,
 "nbformat_minor": 5
}

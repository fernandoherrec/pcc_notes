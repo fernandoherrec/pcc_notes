{
 "cells": [
  {
   "cell_type": "markdown",
   "id": "a4dbbd38",
   "metadata": {},
   "source": [
    "# DECLARACIONES `IF`"
   ]
  },
  {
   "cell_type": "markdown",
   "id": "d44bf60a",
   "metadata": {},
   "source": [
    "La programación muchas veces involucra examinar un conjunto de condiciones y decidir qué acción tomar en base a esas condiciones."
   ]
  },
  {
   "cell_type": "markdown",
   "id": "ee8b8723",
   "metadata": {},
   "source": [
    "## Un ejemplo sencillo\n",
    "---"
   ]
  },
  {
   "cell_type": "code",
   "execution_count": 1,
   "id": "0aa2f7b8",
   "metadata": {},
   "outputs": [
    {
     "name": "stdout",
     "output_type": "stream",
     "text": [
      "Audi\n",
      "BMW\n",
      "Subaru\n",
      "Toyota\n"
     ]
    }
   ],
   "source": [
    "cars = ['audi', 'bmw', 'subaru', 'toyota']\n",
    "\n",
    "for car in cars:\n",
    "    if car == 'bmw':\n",
    "        print(car.upper())\n",
    "    else:\n",
    "        print(car.title())"
   ]
  },
  {
   "cell_type": "markdown",
   "id": "10601292",
   "metadata": {},
   "source": [
    "## *Conditional tests*\n",
    "---"
   ]
  },
  {
   "cell_type": "markdown",
   "id": "47e83bf4",
   "metadata": {},
   "source": [
    "- En el corazón de la declaración `if` se encuentra una expresión que puede ser evaluada como `True` (verdadero) o `False` (falso).\n",
    "- A esta declaración se le llama *conditional test*.\n",
    "    * Si el *test* arroja `True`, Python ejecuta el código que sigue de la sentencia `if`.\n",
    "    * Si el *test* arroja `False`, Python ignora el código que siga de la sentencia `if`."
   ]
  },
  {
   "cell_type": "markdown",
   "id": "da1991b4",
   "metadata": {},
   "source": [
    "### *Checking for Equality*"
   ]
  },
  {
   "cell_type": "markdown",
   "id": "c38f5cfb",
   "metadata": {},
   "source": [
    "- El *test* condicional simple verificar si el valor de la variable **es igual** a un valor de interés.\n",
    "- Para ello se usa el operador de igualdad `==`."
   ]
  },
  {
   "cell_type": "code",
   "execution_count": 3,
   "id": "3b183037",
   "metadata": {},
   "outputs": [
    {
     "data": {
      "text/plain": [
       "True"
      ]
     },
     "execution_count": 3,
     "metadata": {},
     "output_type": "execute_result"
    }
   ],
   "source": [
    "car = 'bmw'\n",
    "car == 'bmw'"
   ]
  },
  {
   "cell_type": "code",
   "execution_count": 4,
   "id": "b55ad4e9",
   "metadata": {},
   "outputs": [
    {
     "data": {
      "text/plain": [
       "False"
      ]
     },
     "execution_count": 4,
     "metadata": {},
     "output_type": "execute_result"
    }
   ],
   "source": [
    "car = 'audi'\n",
    "car == 'bmw'"
   ]
  },
  {
   "cell_type": "markdown",
   "id": "791912bb",
   "metadata": {},
   "source": [
    "### *Ignoring Case When Checking for Equality*"
   ]
  },
  {
   "cell_type": "markdown",
   "id": "7012f60c",
   "metadata": {},
   "source": [
    "- Cuando evalúa una igualdad, Python no es *case sensitive*: dos valores con diferente *capitalization* no son considerados iguales.\n",
    "- Si se quisiera ignorar las mayúsculas, se podría hacer uso del método `.lower()`."
   ]
  },
  {
   "cell_type": "code",
   "execution_count": 5,
   "id": "3f99ac72",
   "metadata": {},
   "outputs": [
    {
     "data": {
      "text/plain": [
       "False"
      ]
     },
     "execution_count": 5,
     "metadata": {},
     "output_type": "execute_result"
    }
   ],
   "source": [
    "car = 'Audi'\n",
    "car == 'audi'"
   ]
  },
  {
   "cell_type": "code",
   "execution_count": 6,
   "id": "1962d825",
   "metadata": {},
   "outputs": [
    {
     "data": {
      "text/plain": [
       "True"
      ]
     },
     "execution_count": 6,
     "metadata": {},
     "output_type": "execute_result"
    }
   ],
   "source": [
    "car = 'Audi'\n",
    "car.lower() == 'audi'"
   ]
  },
  {
   "cell_type": "markdown",
   "id": "02b2de19",
   "metadata": {},
   "source": [
    "### *Checking for Inequality*"
   ]
  },
  {
   "cell_type": "markdown",
   "id": "e809f140",
   "metadata": {},
   "source": [
    "- En la mayoría de los condicionales que escribas evaluarás igualdad, pero a veces encontrarás más eficiente evaluar desigualdades.\n",
    "- En estos casos se usará el operador de desigualdad `!=`.\n",
    "- El signo de exclamación significa *not*."
   ]
  },
  {
   "cell_type": "code",
   "execution_count": 7,
   "id": "0f70becb",
   "metadata": {},
   "outputs": [
    {
     "name": "stdout",
     "output_type": "stream",
     "text": [
      "Hold the anchovies!\n"
     ]
    }
   ],
   "source": [
    "requested_topping = 'mushrooms'\n",
    "\n",
    "if requested_topping != 'anchovies':\n",
    "    print(\"Hold the anchovies!\")"
   ]
  },
  {
   "cell_type": "markdown",
   "id": "625215d0",
   "metadata": {},
   "source": [
    "### Comparaciones numéricas"
   ]
  },
  {
   "cell_type": "markdown",
   "id": "c2c0ddda",
   "metadata": {},
   "source": [
    "- Además de los operadores de igualdad y desigualdad, también se pueden usar:\n",
    "    * menor que `<`\n",
    "    * mayor que `>`\n",
    "    * menor igual que `<=`\n",
    "    * mayor igual que `>=`"
   ]
  },
  {
   "cell_type": "code",
   "execution_count": 8,
   "id": "316bf007",
   "metadata": {},
   "outputs": [
    {
     "data": {
      "text/plain": [
       "True"
      ]
     },
     "execution_count": 8,
     "metadata": {},
     "output_type": "execute_result"
    }
   ],
   "source": [
    "age = 19\n",
    "age < 21"
   ]
  },
  {
   "cell_type": "code",
   "execution_count": 9,
   "id": "56b7f149",
   "metadata": {},
   "outputs": [
    {
     "data": {
      "text/plain": [
       "True"
      ]
     },
     "execution_count": 9,
     "metadata": {},
     "output_type": "execute_result"
    }
   ],
   "source": [
    "age <= 21"
   ]
  },
  {
   "cell_type": "code",
   "execution_count": 10,
   "id": "d6b8da39",
   "metadata": {},
   "outputs": [
    {
     "data": {
      "text/plain": [
       "False"
      ]
     },
     "execution_count": 10,
     "metadata": {},
     "output_type": "execute_result"
    }
   ],
   "source": [
    "age > 21"
   ]
  },
  {
   "cell_type": "code",
   "execution_count": 11,
   "id": "ae14634a",
   "metadata": {},
   "outputs": [
    {
     "data": {
      "text/plain": [
       "False"
      ]
     },
     "execution_count": 11,
     "metadata": {},
     "output_type": "execute_result"
    }
   ],
   "source": [
    "age >= 21"
   ]
  },
  {
   "cell_type": "markdown",
   "id": "5764143d",
   "metadata": {},
   "source": [
    "### Verificando múltiples condiciones"
   ]
  },
  {
   "cell_type": "markdown",
   "id": "9d2f2feb",
   "metadata": {},
   "source": [
    "#### Usando el operador `and`"
   ]
  },
  {
   "cell_type": "markdown",
   "id": "d6b085e2",
   "metadata": {},
   "source": [
    "- El operador `and` se usa para verificar que dos condiciones son `True` simultáneamente.\n",
    "    * Si ambas condiciones pasan el test, toda la expresión se evalúa como `True`.\n",
    "    * Si una de las condiciones falla, o si las dos condiciones fallan, toda la expresión se evalúa como `False`.\n",
    "- Para mayor legibilidad, puedes usar paréntesis alrededor de cada una de los *test* individuales, pero no son requeridos."
   ]
  },
  {
   "cell_type": "code",
   "execution_count": 18,
   "id": "99094fa7",
   "metadata": {},
   "outputs": [
    {
     "data": {
      "text/plain": [
       "False"
      ]
     },
     "execution_count": 18,
     "metadata": {},
     "output_type": "execute_result"
    }
   ],
   "source": [
    "age_0 = 22\n",
    "age_1 = 18\n",
    "age_0 >= 21 and age_1 >= 21"
   ]
  },
  {
   "cell_type": "code",
   "execution_count": 17,
   "id": "30261c54",
   "metadata": {},
   "outputs": [
    {
     "data": {
      "text/plain": [
       "True"
      ]
     },
     "execution_count": 17,
     "metadata": {},
     "output_type": "execute_result"
    }
   ],
   "source": [
    "age_1 = 22\n",
    "age_0 >= 21 and age_1 >= 21"
   ]
  },
  {
   "cell_type": "markdown",
   "id": "fa5bd028",
   "metadata": {},
   "source": [
    "#### Usando el operador `or`"
   ]
  },
  {
   "cell_type": "markdown",
   "id": "a82ae5b3",
   "metadata": {},
   "source": [
    "- El operador `or` se usa para verificar que al menos una de las dos condiciones es `True`.\n",
    "    * Si al menos una de las dos condiciones pasa el *test*, toda la expresión se evalúa como `True`.\n",
    "    * Si ninguna de las condiciones pasa el *test*, toda la expresión se evalúa como `False`."
   ]
  },
  {
   "cell_type": "code",
   "execution_count": 19,
   "id": "9c511b6d",
   "metadata": {},
   "outputs": [
    {
     "data": {
      "text/plain": [
       "True"
      ]
     },
     "execution_count": 19,
     "metadata": {},
     "output_type": "execute_result"
    }
   ],
   "source": [
    "age_0 = 22\n",
    "age_1 = 18\n",
    "age_0 >= 21 or age_1 >= 21"
   ]
  },
  {
   "cell_type": "code",
   "execution_count": 20,
   "id": "4b0f9e93",
   "metadata": {},
   "outputs": [
    {
     "data": {
      "text/plain": [
       "False"
      ]
     },
     "execution_count": 20,
     "metadata": {},
     "output_type": "execute_result"
    }
   ],
   "source": [
    "age_0 = 18\n",
    "age_0 >= 21 or age >= 21"
   ]
  },
  {
   "cell_type": "markdown",
   "id": "1faf37d3",
   "metadata": {},
   "source": [
    "### Verificando si un valor está en una lista"
   ]
  },
  {
   "cell_type": "markdown",
   "id": "4b3cf3a9",
   "metadata": {},
   "source": [
    "- Para verificar si un valor está ya en una lista, usa la palabra clave `in`."
   ]
  },
  {
   "cell_type": "code",
   "execution_count": 22,
   "id": "74e6c916",
   "metadata": {},
   "outputs": [
    {
     "data": {
      "text/plain": [
       "True"
      ]
     },
     "execution_count": 22,
     "metadata": {},
     "output_type": "execute_result"
    }
   ],
   "source": [
    "requested_toppings = ['mushrooms', 'onions', 'pineapple']\n",
    "'mushrooms' in requested_topping"
   ]
  },
  {
   "cell_type": "code",
   "execution_count": 23,
   "id": "e75ed645",
   "metadata": {},
   "outputs": [
    {
     "data": {
      "text/plain": [
       "False"
      ]
     },
     "execution_count": 23,
     "metadata": {},
     "output_type": "execute_result"
    }
   ],
   "source": [
    "'pepperoni' in requested_toppings"
   ]
  },
  {
   "cell_type": "markdown",
   "id": "f7f1a73e",
   "metadata": {},
   "source": [
    "### Verificando si un valor no está en una lista"
   ]
  },
  {
   "cell_type": "markdown",
   "id": "aa409769",
   "metadata": {},
   "source": [
    "- Otras veces es importante saber si un valor no aparece en una lista.\n",
    "- Para ello puedes usar la palabra clave `not in` en esta situación"
   ]
  },
  {
   "cell_type": "code",
   "execution_count": 25,
   "id": "255dc210",
   "metadata": {},
   "outputs": [
    {
     "name": "stdout",
     "output_type": "stream",
     "text": [
      "Marie, you can post a response if you wish.\n"
     ]
    }
   ],
   "source": [
    "banned_users = ['andrew', 'carolina', 'david']\n",
    "user = 'marie'\n",
    "\n",
    "if user not in banned_users:\n",
    " print(user.title() + \", you can post a response if you wish.\")"
   ]
  },
  {
   "cell_type": "markdown",
   "id": "e3350c9d",
   "metadata": {},
   "source": [
    "### Expresiones *booleanas*"
   ]
  },
  {
   "cell_type": "markdown",
   "id": "15393b3a",
   "metadata": {},
   "source": [
    "- Una *Boolean expression* no es más que otro nombre que se le da a un *conditional test*.\n",
    "- Proveen una forma eficiente de definir el estado de un programa o de una condición particular después de que haya sido evaluada."
   ]
  },
  {
   "cell_type": "code",
   "execution_count": 26,
   "id": "08608ed0",
   "metadata": {},
   "outputs": [],
   "source": [
    "game_active = True\n",
    "can_edit = False"
   ]
  },
  {
   "cell_type": "markdown",
   "id": "69de3a76",
   "metadata": {},
   "source": [
    "## Declaraciones `if` (`if`*Statements*)\n",
    "---"
   ]
  },
  {
   "cell_type": "markdown",
   "id": "a78c580a",
   "metadata": {},
   "source": [
    "### Declaraciones `if` simples"
   ]
  },
  {
   "cell_type": "markdown",
   "id": "aa4e8615",
   "metadata": {},
   "source": [
    "- La forma más simple de una declaración `if` se compone de un test y una acción.\n",
    "    * Si el *conditional_test* resulta `True`, se ejecutan las líneas indentadas.\n",
    "    * Si el *conditional_test* resulta `False`, el programa no producirá salida."
   ]
  },
  {
   "cell_type": "code",
   "execution_count": 2,
   "id": "87d29fa9",
   "metadata": {},
   "outputs": [
    {
     "name": "stdout",
     "output_type": "stream",
     "text": [
      "You are old enough to vote!\n",
      "Have you registered to vote yet?\n"
     ]
    }
   ],
   "source": [
    "age = 19\n",
    "if age >= 18:\n",
    "    print(\"You are old enough to vote!\")\n",
    "    print(\"Have you registered to vote yet?\")"
   ]
  },
  {
   "cell_type": "markdown",
   "id": "f993d37d",
   "metadata": {},
   "source": [
    "### Declaraciones *if-else*"
   ]
  },
  {
   "cell_type": "markdown",
   "id": "060792fc",
   "metadata": {},
   "source": [
    "- El bloque *if-else* es similar a la declaración `if`.\n",
    "- El bloque *if-else* permite definir una acción o conjunto de acciones para que sean ejecutadas cuando el *conditional-test* falle."
   ]
  },
  {
   "cell_type": "code",
   "execution_count": 4,
   "id": "a5052fe8",
   "metadata": {},
   "outputs": [
    {
     "name": "stdout",
     "output_type": "stream",
     "text": [
      "Sorry, you are too young to vote.\n",
      "Please register to vote as soon as you turn 18!\n"
     ]
    }
   ],
   "source": [
    "age = 17\n",
    "if age >= 18:\n",
    "    print(\"You are old enough to vote!\")\n",
    "    print(\"Have you registered to vote yet?\")\n",
    "else:\n",
    "    print(\"Sorry, you are too young to vote.\")\n",
    "    print(\"Please register to vote as soon as you turn 18!\")"
   ]
  },
  {
   "cell_type": "markdown",
   "id": "a7aa63ab",
   "metadata": {},
   "source": [
    "### La cadena *if-elif-else*"
   ]
  },
  {
   "cell_type": "markdown",
   "id": "57fd00b0",
   "metadata": {},
   "source": [
    "- La sintaxis *if-elif-else* se usa cuando tienes más de dos posibilidades/situaciones a evaluar.\n",
    "- Python solo ejecuta un bloque en una cadena *if-elif-else*.\n",
    "- Corre cada *conditional-test* en orden hasta que una pase.\n",
    "     * El código que siga a ese *test* se ejecuta.\n",
    "     * El resto de *tests* se ignoran."
   ]
  },
  {
   "cell_type": "code",
   "execution_count": 5,
   "id": "be78963c",
   "metadata": {},
   "outputs": [
    {
     "name": "stdout",
     "output_type": "stream",
     "text": [
      "Your admission cost is $5\n"
     ]
    }
   ],
   "source": [
    "age = 12\n",
    "\n",
    "if age < 4:\n",
    "    print(\"Your admission cost is $0\")\n",
    "elif age < 18:\n",
    "    print(\"Your admission cost is $5\")\n",
    "else:\n",
    "    print(\"Your admission cost is $10\")"
   ]
  },
  {
   "cell_type": "code",
   "execution_count": 6,
   "id": "5915c406",
   "metadata": {},
   "outputs": [
    {
     "name": "stdout",
     "output_type": "stream",
     "text": [
      "Your admission cost is $5.\n"
     ]
    }
   ],
   "source": [
    "age = 12\n",
    "if age < 4:\n",
    "    price = 0\n",
    "elif age < 18:\n",
    "    price = 5\n",
    "else:\n",
    "    price = 10\n",
    "print(\"Your admission cost is $\" + str(price) + \".\")"
   ]
  },
  {
   "cell_type": "markdown",
   "id": "37e7b4d8",
   "metadata": {},
   "source": [
    "### Usando múltiples bloques `elif`"
   ]
  },
  {
   "cell_type": "code",
   "execution_count": 7,
   "id": "a5af2570",
   "metadata": {},
   "outputs": [
    {
     "name": "stdout",
     "output_type": "stream",
     "text": [
      "Your admission cost is $5.\n"
     ]
    }
   ],
   "source": [
    "age = 12\n",
    "if age < 4:\n",
    "    price = 0\n",
    "elif age < 18:\n",
    "    price = 5\n",
    "elif age < 65:\n",
    "    price = 10\n",
    "else:\n",
    "    price = 5\n",
    "print(\"Your admission cost is $\" + str(price) + \".\")"
   ]
  },
  {
   "cell_type": "markdown",
   "id": "6de3bac3",
   "metadata": {},
   "source": [
    "### Omitiendo el bloque `else`"
   ]
  },
  {
   "cell_type": "markdown",
   "id": "db4f9bf9",
   "metadata": {},
   "source": [
    "- Python no requiere un bloque `else` al final de la cadena *if-elif*.\n",
    "- Algunas veces ese bloque es útil, pero otras veces resulta más claro utilizar una declaración `elif` adicional.\n",
    "- De esta forma te aseguras que el código se ejecutará solo bajo las condiciones correctas."
   ]
  },
  {
   "cell_type": "code",
   "execution_count": 8,
   "id": "1333bcf2",
   "metadata": {},
   "outputs": [
    {
     "name": "stdout",
     "output_type": "stream",
     "text": [
      "Your admission cost is $5.\n"
     ]
    }
   ],
   "source": [
    "age = 12\n",
    "if age < 4:\n",
    "    price = 0\n",
    "elif age < 18:\n",
    "    price = 5\n",
    "elif age < 65:\n",
    "    price = 10\n",
    "elif age >= 65:\n",
    "    price = 5\n",
    "print(\"Your admission cost is $\" + str(price) + \".\")"
   ]
  },
  {
   "cell_type": "markdown",
   "id": "a8645b71",
   "metadata": {},
   "source": [
    "### Testeando múltiples condiciones"
   ]
  },
  {
   "cell_type": "markdown",
   "id": "c88a9eb5",
   "metadata": {},
   "source": [
    "- La cadena *if-elif-else* es poderosa, pero solo se recomienda cuando necesita pasar un solo test.\n",
    "- A veces es importante verificar todas las condiciones de interés. En este caso, se debe usar una serie de declaraciones `if` sin bloques `elif` o `else`."
   ]
  },
  {
   "cell_type": "code",
   "execution_count": 11,
   "id": "cecc0f90",
   "metadata": {},
   "outputs": [
    {
     "name": "stdout",
     "output_type": "stream",
     "text": [
      "Adding mushrooms.\n",
      "Adding extra cheese.\n",
      "\n",
      "Finished making your pizza!\n"
     ]
    }
   ],
   "source": [
    "requested_toppings = ['mushrooms', 'extra cheese']\n",
    "\n",
    "if 'mushrooms' in requested_toppings:\n",
    "    print(\"Adding mushrooms.\")\n",
    "if 'pepperoni' in requested_toppings:\n",
    "    print(\"Adding pepperoni.\")\n",
    "if 'extra cheese' in requested_toppings:\n",
    "    print(\"Adding extra cheese.\")\n",
    "\n",
    "print(\"\\nFinished making your pizza!\")"
   ]
  },
  {
   "cell_type": "markdown",
   "id": "8130e691",
   "metadata": {},
   "source": [
    "## Usando declaraciones `if` con listas\n",
    "---"
   ]
  },
  {
   "cell_type": "markdown",
   "id": "33ff0f89",
   "metadata": {},
   "source": [
    "### Comprobando artículos especiales"
   ]
  },
  {
   "cell_type": "markdown",
   "id": "b8c9a762",
   "metadata": {},
   "source": [
    "- Veremos cómo manejar un valor especial que necesita ser mostrado por pantalla en un formato diferente al resto."
   ]
  },
  {
   "cell_type": "code",
   "execution_count": 2,
   "id": "e39a9b9f",
   "metadata": {},
   "outputs": [
    {
     "name": "stdout",
     "output_type": "stream",
     "text": [
      "Adding mushrooms.\n",
      "Sorry, we are out of green pepers right now.\n",
      "Adding extra cheese.\n",
      "\n",
      "Finished making your pizza!\n"
     ]
    }
   ],
   "source": [
    "requested_toppings = ['mushrooms', 'green peppers', 'extra cheese']\n",
    "\n",
    "for requested_topping in requested_toppings:\n",
    "    if requested_topping == 'green peppers':\n",
    "        print(\"Sorry, we are out of green pepers right now.\")\n",
    "    else:\n",
    "        print(\"Adding \" + requested_topping + \".\")\n",
    "    \n",
    "print(\"\\nFinished making your pizza!\")"
   ]
  },
  {
   "cell_type": "markdown",
   "id": "7390cffe",
   "metadata": {},
   "source": [
    "### Comprobando que una lista no está vacía"
   ]
  },
  {
   "cell_type": "markdown",
   "id": "6e7a058f",
   "metadata": {},
   "source": [
    "- No podemos asumir que una lista tiene artículos almacenados.\n",
    "- Es importante verificar si una lista está vacía antes de iniciar un ciclo `for`.\n",
    "    * Python devuelve `False` si una lista está vacía.\n",
    "    * Python devuelve `True` si una lista tiene al menos un elemento."
   ]
  },
  {
   "cell_type": "code",
   "execution_count": 3,
   "id": "ee7c8ed1",
   "metadata": {},
   "outputs": [
    {
     "name": "stdout",
     "output_type": "stream",
     "text": [
      "Are you sure you want a plain pizza?\n"
     ]
    }
   ],
   "source": [
    "requested_toppings = []\n",
    "\n",
    "if requested_toppings:\n",
    "    for requested_topping in requested_toppings:\n",
    "        print(\"Adding \" + requested_topping + \".\")\n",
    "    print(\"\\nFinished making your pizza!\")\n",
    "else:\n",
    "    print(\"Are you sure you want a plain pizza?\")"
   ]
  },
  {
   "cell_type": "markdown",
   "id": "80a817b4",
   "metadata": {},
   "source": [
    "### Usando múltiples listas"
   ]
  },
  {
   "cell_type": "code",
   "execution_count": 5,
   "id": "39cb6b07",
   "metadata": {},
   "outputs": [
    {
     "name": "stdout",
     "output_type": "stream",
     "text": [
      "Adding mushrooms.\n",
      "Sorry, we don't have french fries.\n",
      "Adding extra cheese.\n",
      "\n",
      "Finished making your pizza!\n"
     ]
    }
   ],
   "source": [
    "available_toppings = ['mushrooms', 'olives', 'green peppers', 'pepperoni', 'pineapple', 'extra cheese']\n",
    "\n",
    "requested_toppings = ['mushrooms', 'french fries', 'extra cheese']\n",
    "\n",
    "for requested_topping in requested_toppings:\n",
    "    if requested_topping in available_toppings:\n",
    "        print(\"Adding \" + requested_topping + \".\")\n",
    "    else:\n",
    "        print(\"Sorry, we don't have \" + requested_topping + \".\")\n",
    "\n",
    "print(\"\\nFinished making your pizza!\")"
   ]
  },
  {
   "cell_type": "markdown",
   "id": "19ad3a26",
   "metadata": {},
   "source": [
    "## Estilizando tus declaraciones `if`"
   ]
  },
  {
   "cell_type": "markdown",
   "id": "661f1934",
   "metadata": {},
   "source": [
    "- Se recomienda utilizar un espacio en blanco alrededor de cualquier operador de comparación como `==`, `>=`. `<=`, etc.\n",
    "- `if age < 4:` es mejor que `if age<4:`"
   ]
  }
 ],
 "metadata": {
  "kernelspec": {
   "display_name": "Python 3 (ipykernel)",
   "language": "python",
   "name": "python3"
  },
  "language_info": {
   "codemirror_mode": {
    "name": "ipython",
    "version": 3
   },
   "file_extension": ".py",
   "mimetype": "text/x-python",
   "name": "python",
   "nbconvert_exporter": "python",
   "pygments_lexer": "ipython3",
   "version": "3.9.5"
  }
 },
 "nbformat": 4,
 "nbformat_minor": 5
}

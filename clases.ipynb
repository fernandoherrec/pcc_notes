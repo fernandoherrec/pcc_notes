{
 "cells": [
  {
   "cell_type": "markdown",
   "id": "d906a4da",
   "metadata": {},
   "source": [
    "# CLASES"
   ]
  },
  {
   "cell_type": "markdown",
   "id": "ecbcc4ea",
   "metadata": {},
   "source": [
    "- En la programación orientada a objetos, escribes clases que representan cosas y situaciones de la vida real, y tú creas objetos basado en esas clases.\n",
    "- Cuando creas una clase, defines el comportamiento general que toda una categoría de objetos tendrá.\n",
    "- Cuando creas un objeto de una clase, ese objeto se equipa automáticamente con el comportamiento pre-definido.\n",
    "- Crear un objeto de una clase es llamado ***instantiation*** y trabajas con ***instancies*** de una clase."
   ]
  },
  {
   "cell_type": "markdown",
   "id": "a790d27d",
   "metadata": {},
   "source": [
    "## Creando y usando clases\n",
    "---"
   ]
  },
  {
   "cell_type": "markdown",
   "id": "7c25bfbf",
   "metadata": {},
   "source": [
    "### Creando la clase Dog"
   ]
  },
  {
   "cell_type": "markdown",
   "id": "580e67ba",
   "metadata": {},
   "source": [
    "- Cada instancia creada de la clase Dog almacenará un nombre y una edad, y le dará al perro la habilidad de sentarse `sit()` y rodar `roll_over()`."
   ]
  },
  {
   "cell_type": "markdown",
   "id": "7746f345",
   "metadata": {},
   "source": [
    "#### El método `.__init__()`"
   ]
  },
  {
   "cell_type": "markdown",
   "id": "1be9a2e8",
   "metadata": {},
   "source": [
    "- Una función que es parte de una clase es un **método**.\n",
    "- El método `.__init__()` es un método especial que Python ejecuta automáticamente cuando se crea una nueva instancia basada en la clase Dog.\n",
    "- Este método tiene dos subguiones al inicio, y dos al final, así se diferencian los métodos especiales y evitamos que sean usados como nombres de otros métodos.\n",
    "    * El parámetro `self` es requerido en la definición de un método y debe estar antes de los otros parámetros.\n",
    "    * Todo método asociado a una clase pasa inmediatamente el parámetro `self` que es una referencia a la misma instancia.\n",
    "    * Cualquier variable con el prefijo `self.` se vuelve accesible a todos los métodos de la clase.\n",
    "    * Estas variables se llaman **atributos**"
   ]
  },
  {
   "cell_type": "code",
   "execution_count": 4,
   "id": "f6ee61ac",
   "metadata": {},
   "outputs": [
    {
     "name": "stdout",
     "output_type": "stream",
     "text": [
      "My dog's name is Willie.\n",
      "My dog's is 6 years old.\n",
      "Willie is now sitting.\n",
      "\n",
      "Your dog's name is Lucy.\n",
      "Your dog's is 3 years old.\n",
      "Lucy is now sitting.\n"
     ]
    }
   ],
   "source": [
    "class Dog():\n",
    "    \"\"\"A simple attempt to model a dog.\"\"\"\n",
    "    \n",
    "    def __init__(self, name, age):\n",
    "        \"\"\"Initialize name and age attributes.\"\"\"\n",
    "        self.name = name\n",
    "        self.age = age\n",
    "        \n",
    "    def sit(self):\n",
    "        \"\"\"Simmulate a dog sitting in response to a command.\"\"\"\n",
    "        print(self.name.title() + \" is now sitting.\")\n",
    "        \n",
    "    def roll_over(self):\n",
    "        \"\"\"Simmulate rolling over in response to a command.\"\"\"\n",
    "        print(self.name.title() + \" rolled over!\")\n",
    "        \n",
    "my_dog = Dog('willie', 6)\n",
    "your_dog = Dog('lucy', 3)\n",
    "\n",
    "print(\"My dog's name is \" + my_dog.name.title() + \".\")\n",
    "print(\"My dog's is \" + str(my_dog.age) + \" years old.\")\n",
    "my_dog.sit()\n",
    "\n",
    "\n",
    "print(\"\\nYour dog's name is \" + your_dog.name.title() + \".\")\n",
    "print(\"Your dog's is \" + str(your_dog.age) + \" years old.\")\n",
    "your_dog.sit()"
   ]
  },
  {
   "cell_type": "markdown",
   "id": "b689e771",
   "metadata": {},
   "source": [
    "## Trabajando con clases e instancias\n",
    "---"
   ]
  },
  {
   "cell_type": "markdown",
   "id": "b8d6bf96",
   "metadata": {},
   "source": [
    "### La clase Car"
   ]
  },
  {
   "cell_type": "code",
   "execution_count": 6,
   "id": "c6151704",
   "metadata": {},
   "outputs": [
    {
     "name": "stdout",
     "output_type": "stream",
     "text": [
      "2016 Audi A4\n"
     ]
    }
   ],
   "source": [
    "class Car():\n",
    "    \"\"\"A simple attempt to represent a car.\"\"\"\n",
    "    \n",
    "    def __init__(self, make, model, year):\n",
    "        \"\"\"Initialize attributes to describe a car.\"\"\"\n",
    "        self.make = make\n",
    "        self.model = model\n",
    "        self.year = year\n",
    "    \n",
    "    def get_descriptive_name(self):\n",
    "        \"\"\"Return a neatly formatted descriptive name.\"\"\"\n",
    "        long_name = str(self.year) + ' ' + self.make + ' ' + self.model\n",
    "        return long_name.title()\n",
    "    \n",
    "my_new_car = Car('audi', 'a4', 2016)\n",
    "print(my_new_car.get_descriptive_name())"
   ]
  },
  {
   "cell_type": "markdown",
   "id": "53276515",
   "metadata": {},
   "source": [
    "### Definiendo el valor por defecto para un atributo"
   ]
  },
  {
   "cell_type": "markdown",
   "id": "12acf0e8",
   "metadata": {},
   "source": [
    "- Todo atributo de una clase necesita un valor inicial, aunque el valor sea 0 o una cadena vacía."
   ]
  },
  {
   "cell_type": "code",
   "execution_count": 7,
   "id": "1cd5fe89",
   "metadata": {},
   "outputs": [
    {
     "name": "stdout",
     "output_type": "stream",
     "text": [
      "2016 Audi A4\n",
      "This car has 0 miles on it.\n"
     ]
    }
   ],
   "source": [
    "class Car():\n",
    "    \"\"\"A simple attempt to represent a car.\"\"\"\n",
    "    \n",
    "    def __init__(self, make, model, year):\n",
    "        \"\"\"Initialize attributes to describe a car.\"\"\"\n",
    "        self.make = make\n",
    "        self.model = model\n",
    "        self.year = year\n",
    "        self.odometer_reading = 0\n",
    "    \n",
    "    def get_descriptive_name(self):\n",
    "        \"\"\"Return a neatly formatted descriptive name.\"\"\"\n",
    "        long_name = str(self.year) + ' ' + self.make + ' ' + self.model\n",
    "        return long_name.title()\n",
    "    \n",
    "    def read_odometer(self):\n",
    "        \"\"\"Print a statement showing the car's mileage\"\"\"\n",
    "        print(\"This car has \" + str(self.odometer_reading) + \" miles on it.\")\n",
    "    \n",
    "my_new_car = Car('audi', 'a4', 2016)\n",
    "print(my_new_car.get_descriptive_name())\n",
    "my_new_car.read_odometer()"
   ]
  },
  {
   "cell_type": "markdown",
   "id": "c0f8615b",
   "metadata": {},
   "source": [
    "### Modificando valores de atributos"
   ]
  },
  {
   "cell_type": "markdown",
   "id": "5a488e3d",
   "metadata": {},
   "source": [
    "#### Modificando directamente los valores de atributos"
   ]
  },
  {
   "cell_type": "code",
   "execution_count": 8,
   "id": "8f935b75",
   "metadata": {},
   "outputs": [
    {
     "name": "stdout",
     "output_type": "stream",
     "text": [
      "2016 Audi A4\n",
      "This car has 23 miles on it.\n"
     ]
    }
   ],
   "source": [
    "my_new_car = Car('audi', 'a4', 2016)\n",
    "print(my_new_car.get_descriptive_name())\n",
    "\n",
    "my_new_car.odometer_reading = 23\n",
    "my_new_car.read_odometer()"
   ]
  },
  {
   "cell_type": "markdown",
   "id": "4e575b1a",
   "metadata": {},
   "source": [
    "#### Modificando el valor de un atributo a través de un método"
   ]
  },
  {
   "cell_type": "code",
   "execution_count": 12,
   "id": "8e6bd4c4",
   "metadata": {},
   "outputs": [
    {
     "name": "stdout",
     "output_type": "stream",
     "text": [
      "2016 Audi A4\n",
      "This car has 23 miles on it.\n"
     ]
    }
   ],
   "source": [
    "class Car():\n",
    "    \"\"\"A simple attempt to represent a car.\"\"\"\n",
    "    \n",
    "    def __init__(self, make, model, year):\n",
    "        \"\"\"Initialize attributes to describe a car.\"\"\"\n",
    "        self.make = make\n",
    "        self.model = model\n",
    "        self.year = year\n",
    "        self.odometer_reading = 0\n",
    "    \n",
    "    def get_descriptive_name(self):\n",
    "        \"\"\"Return a neatly formatted descriptive name.\"\"\"\n",
    "        long_name = str(self.year) + ' ' + self.make + ' ' + self.model\n",
    "        return long_name.title()\n",
    "    \n",
    "    def read_odometer(self):\n",
    "        \"\"\"Print a statement showing the car's mileage\"\"\"\n",
    "        print(\"This car has \" + str(self.odometer_reading) + \" miles on it.\")\n",
    "    \n",
    "    def update_odometer(self, mileage):\n",
    "        \"\"\"\n",
    "        Set the odometer reading to the given value.\n",
    "        Reject the change if it attempts to roll the odometer back.\n",
    "        \"\"\"\n",
    "        if mileage >= self.odometer_reading:\n",
    "            self.odometer_reading = mileage\n",
    "        else:\n",
    "            print(\"You can't roll back an odometer\")\n",
    "\n",
    "my_new_car = Car('audi', 'a4', 2016)\n",
    "print(my_new_car.get_descriptive_name())\n",
    "\n",
    "my_new_car.update_odometer(23)\n",
    "my_new_car.read_odometer()"
   ]
  },
  {
   "cell_type": "markdown",
   "id": "1e70af1c",
   "metadata": {},
   "source": [
    "#### Incrementando el valor de un atributo a través de un método"
   ]
  },
  {
   "cell_type": "code",
   "execution_count": 14,
   "id": "b7d79504",
   "metadata": {},
   "outputs": [
    {
     "name": "stdout",
     "output_type": "stream",
     "text": [
      "2013 Subaru Outback\n",
      "This car has 23500 miles on it.\n",
      "This car has 23600 miles on it.\n"
     ]
    }
   ],
   "source": [
    "class Car():\n",
    "    \"\"\"A simple attempt to represent a car.\"\"\"\n",
    "    \n",
    "    def __init__(self, make, model, year):\n",
    "        \"\"\"Initialize attributes to describe a car.\"\"\"\n",
    "        self.make = make\n",
    "        self.model = model\n",
    "        self.year = year\n",
    "        self.odometer_reading = 0\n",
    "    \n",
    "    def get_descriptive_name(self):\n",
    "        \"\"\"Return a neatly formatted descriptive name.\"\"\"\n",
    "        long_name = str(self.year) + ' ' + self.make + ' ' + self.model\n",
    "        return long_name.title()\n",
    "    \n",
    "    def read_odometer(self):\n",
    "        \"\"\"Print a statement showing the car's mileage\"\"\"\n",
    "        print(\"This car has \" + str(self.odometer_reading) + \" miles on it.\")\n",
    "    \n",
    "    def update_odometer(self, mileage):\n",
    "        \"\"\"\n",
    "        Set the odometer reading to the given value.\n",
    "        Reject the change if it attempts to roll the odometer back.\n",
    "        \"\"\"\n",
    "        if mileage >= self.odometer_reading:\n",
    "            self.odometer_reading = mileage\n",
    "        else:\n",
    "            print(\"You can't roll back an odometer\")\n",
    "            \n",
    "    def increment_odometer(self, miles):\n",
    "        \"\"\"Add the given amount to the odometer reading.\"\"\"\n",
    "        self.odometer_reading += miles\n",
    "\n",
    "my_used_car = Car('subaru', 'outback', 2013)\n",
    "print(my_used_car.get_descriptive_name())\n",
    "\n",
    "my_used_car.update_odometer(23500)\n",
    "my_used_car.read_odometer()\n",
    "\n",
    "my_used_car.increment_odometer(100)\n",
    "my_used_car.read_odometer()"
   ]
  },
  {
   "cell_type": "markdown",
   "id": "75fdd750",
   "metadata": {},
   "source": [
    "## Herencia (*Inheritance*)\n",
    "---"
   ]
  },
  {
   "cell_type": "markdown",
   "id": "1ee8cbda",
   "metadata": {},
   "source": [
    "- No siempre tienes que empezar desde 0 cuando creas una clase.\n",
    "- Si la clase que estás creando es una versión especializada de otra clase que ya has creado, puedes usar la **herencia**.\n",
    "    * Cuando una clase **hereda** de otra clase, automáticamente toma todos los atributos de la primera clase. \n",
    "    * La clase original es llamada **clase padre (*parent class*)**.\n",
    "    * La nueva clase es llamada **clase hijo (*child class*)**.\n",
    "    * La clase hijo hereda todos los atributos y métodos de la clase padre pero también es libre de definir atributos y métodos propios."
   ]
  },
  {
   "cell_type": "markdown",
   "id": "550a0b3d",
   "metadata": {},
   "source": [
    "### El método `.__init__()` para una clase hijo"
   ]
  },
  {
   "cell_type": "code",
   "execution_count": 15,
   "id": "948d6b9f",
   "metadata": {},
   "outputs": [],
   "source": [
    "class Car():\n",
    "    \n",
    "    def __init__(self, make, model, year):\n",
    "        self.make = make\n",
    "        self.model = model\n",
    "        self.year = year\n",
    "        self.odometer_reading = 0\n",
    "    \n",
    "    def get_descriptive_name(self):\n",
    "        long_name = str(self.year) + ' ' + self.make + ' ' + self.model\n",
    "        return long_name.title()\n",
    "    \n",
    "    def read_odometer(self):\n",
    "        print(\"This car has \" + str(self.odometer_reading) + \" miles on it.\")\n",
    "    \n",
    "    def update_odometer(self, mileage):\n",
    "        if mileage >= self.odometer_reading:\n",
    "            self.odometer_reading = mileage\n",
    "        else:\n",
    "            print(\"You can't roll back an odometer\")\n",
    "            \n",
    "    def increment_odometer(self, miles):\n",
    "        self.odometer_reading += miles"
   ]
  },
  {
   "cell_type": "code",
   "execution_count": 17,
   "id": "8beb2608",
   "metadata": {},
   "outputs": [
    {
     "name": "stdout",
     "output_type": "stream",
     "text": [
      "2016 Tesla Model S\n"
     ]
    }
   ],
   "source": [
    "class ElectricCar(Car):\n",
    "    \"\"\"Represents aspects of a car, specific to electric vechicles.\"\"\"\n",
    "    def __init__(self, make, model, year):\n",
    "        \"\"\"\"Initialize attributes of the parent class.\"\"\"\n",
    "        super().__init__(make, model, year)\n",
    "\n",
    "my_tesla = ElectricCar('tesla', 'model s', 2016)\n",
    "print(my_tesla.get_descriptive_name())"
   ]
  },
  {
   "cell_type": "markdown",
   "id": "914a73cd",
   "metadata": {},
   "source": [
    "- El nombre `super` viene de la convención de llamar a la clase padre como **superclase**, y a la clase hijo como **sub clase**."
   ]
  },
  {
   "cell_type": "markdown",
   "id": "5b268c75",
   "metadata": {},
   "source": [
    "### Definiendo atributos y métodos para una clase hijo"
   ]
  },
  {
   "cell_type": "code",
   "execution_count": 18,
   "id": "255b5d5b",
   "metadata": {},
   "outputs": [
    {
     "name": "stdout",
     "output_type": "stream",
     "text": [
      "2016 Tesla Model S\n",
      "This car has a 70-kWh battery.\n"
     ]
    }
   ],
   "source": [
    "class ElectricCar(Car):\n",
    "    \"\"\"Represents aspects of a car, specific to electric vechicles.\"\"\"\n",
    "    \n",
    "    def __init__(self, make, model, year):\n",
    "        \"\"\"\n",
    "        Initialize attributes of the parent class.\n",
    "        Then initialize attributes specific to an electric car.\n",
    "        \"\"\"\n",
    "        super().__init__(make, model, year)\n",
    "        self.battery_size = 70\n",
    "        \n",
    "    def describe_battery(self):\n",
    "        \"\"\"Print a statement describing the battery size.\"\"\"\n",
    "        print(\"This car has a \" + str(self.battery_size) + \"-kWh battery.\")\n",
    "\n",
    "my_tesla = ElectricCar('tesla', 'model s', 2016)\n",
    "print(my_tesla.get_descriptive_name())\n",
    "my_tesla.describe_battery()"
   ]
  },
  {
   "cell_type": "markdown",
   "id": "ab20bc42",
   "metadata": {},
   "source": [
    "### Sobreescribiendo métodos de la clase padre"
   ]
  },
  {
   "cell_type": "markdown",
   "id": "aae8da1b",
   "metadata": {},
   "source": [
    "- Para eso creas un método en la clase hijo con el mismo nombre que el método de la clase padre que quieres sobreescibir."
   ]
  },
  {
   "cell_type": "code",
   "execution_count": 20,
   "id": "0c9c09fe",
   "metadata": {},
   "outputs": [],
   "source": [
    "# Supongamos que la clase Car tiene un método .fill_gas_tank() que\n",
    "# sería inútil para un carro eléctrico.\n",
    "def ElectricCar(Car):\n",
    "#         ---snip---\n",
    "    def fill_gas_tank():\n",
    "        \"\"\"Electric cars don't have gas tanks.\"\"\"\n",
    "        print(\"This car doesn't need a gas tank!\")"
   ]
  },
  {
   "cell_type": "markdown",
   "id": "26e9c60b",
   "metadata": {},
   "source": [
    "### Instancias como atributos"
   ]
  },
  {
   "cell_type": "code",
   "execution_count": 23,
   "id": "75a4c945",
   "metadata": {},
   "outputs": [],
   "source": [
    "class Battery():\n",
    "    def __init__(self, battery_size=70):\n",
    "        self.battery_size = battery_size\n",
    "    \n",
    "    def describe_battery(self):\n",
    "        print(\"This car has a \" + str(self.battery_size) + \"-kWh battery.\")\n",
    "        \n",
    "    def get_range(self):\n",
    "        if self.battery_size == 70:\n",
    "            range = 240\n",
    "        elif self.battery_size == 85:\n",
    "            range = 270\n",
    "        \n",
    "        message = \"This car can go approximately \" + str(range)\n",
    "        message += \" miles on a full charge.\"\n",
    "        print(message)\n",
    "            "
   ]
  },
  {
   "cell_type": "code",
   "execution_count": 24,
   "id": "fda66007",
   "metadata": {},
   "outputs": [
    {
     "name": "stdout",
     "output_type": "stream",
     "text": [
      "2016 Tesla Model S\n",
      "This car has a 70-kWh battery.\n",
      "This car can go approximately 240 miles on a full charge.\n"
     ]
    }
   ],
   "source": [
    "class ElectricCar(Car):\n",
    "    \n",
    "    def __init__(self, make, model, year):\n",
    "        super().__init__(make, model, year)\n",
    "        self.battery = Battery()\n",
    "        \n",
    "my_tesla = ElectricCar('tesla', 'model s', 2016)\n",
    "\n",
    "print(my_tesla.get_descriptive_name())\n",
    "my_tesla.battery.describe_battery()\n",
    "my_tesla.battery.get_range()"
   ]
  }
 ],
 "metadata": {
  "kernelspec": {
   "display_name": "Python 3 (ipykernel)",
   "language": "python",
   "name": "python3"
  },
  "language_info": {
   "codemirror_mode": {
    "name": "ipython",
    "version": 3
   },
   "file_extension": ".py",
   "mimetype": "text/x-python",
   "name": "python",
   "nbconvert_exporter": "python",
   "pygments_lexer": "ipython3",
   "version": "3.9.5"
  }
 },
 "nbformat": 4,
 "nbformat_minor": 5
}
